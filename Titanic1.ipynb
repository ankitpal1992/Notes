{
    "metadata": {
        "language_info": {
            "codemirror_mode": {
                "name": "ipython", 
                "version": 3
            }, 
            "file_extension": ".py", 
            "version": "3.5.4", 
            "name": "python", 
            "pygments_lexer": "ipython3", 
            "mimetype": "text/x-python", 
            "nbconvert_exporter": "python"
        }, 
        "kernelspec": {
            "language": "python3", 
            "display_name": "Python 3.5 with Spark", 
            "name": "python3"
        }
    }, 
    "nbformat": 4, 
    "cells": [
        {
            "metadata": {}, 
            "execution_count": 1, 
            "cell_type": "code", 
            "outputs": [
                {
                    "name": "stdout", 
                    "output_type": "stream", 
                    "text": "Waiting for a Spark session to start...\nSpark Initialization Done! ApplicationId = app-20181019015950-0000\n"
                }
            ], 
            "source": "#Titanic Dataset Code to prepare machine Learning Model"
        }, 
        {
            "metadata": {}, 
            "execution_count": 2, 
            "cell_type": "code", 
            "outputs": [], 
            "source": "#Importing all the libraries"
        }, 
        {
            "metadata": {}, 
            "execution_count": 3, 
            "cell_type": "code", 
            "outputs": [], 
            "source": "import numpy as np"
        }, 
        {
            "metadata": {}, 
            "execution_count": 4, 
            "cell_type": "code", 
            "outputs": [], 
            "source": "import pandas as pd"
        }, 
        {
            "metadata": {}, 
            "execution_count": 5, 
            "cell_type": "code", 
            "outputs": [], 
            "source": "from matplotlib import pyplot as plt"
        }, 
        {
            "metadata": {}, 
            "execution_count": 6, 
            "cell_type": "code", 
            "outputs": [], 
            "source": "import seaborn as sns"
        }, 
        {
            "metadata": {}, 
            "execution_count": 7, 
            "cell_type": "code", 
            "outputs": [], 
            "source": "from sklearn.model_selection import train_test_split"
        }, 
        {
            "metadata": {}, 
            "execution_count": 8, 
            "cell_type": "code", 
            "outputs": [], 
            "source": "from sklearn.preprocessing import LabelEncoder"
        }, 
        {
            "metadata": {}, 
            "execution_count": 9, 
            "cell_type": "code", 
            "outputs": [], 
            "source": "from sklearn.tree import DecisionTreeClassifier"
        }, 
        {
            "metadata": {}, 
            "execution_count": 10, 
            "cell_type": "code", 
            "outputs": [], 
            "source": "from sklearn.ensemble import RandomForestClassifier"
        }, 
        {
            "metadata": {}, 
            "execution_count": 11, 
            "cell_type": "code", 
            "outputs": [], 
            "source": "from sklearn.svm import SVC"
        }, 
        {
            "metadata": {}, 
            "execution_count": 12, 
            "cell_type": "code", 
            "outputs": [], 
            "source": "from sklearn.naive_bayes import GaussianNB"
        }, 
        {
            "metadata": {}, 
            "execution_count": 13, 
            "cell_type": "code", 
            "outputs": [], 
            "source": "from sklearn.linear_model import LogisticRegression"
        }, 
        {
            "metadata": {}, 
            "execution_count": 14, 
            "cell_type": "code", 
            "outputs": [], 
            "source": "from sklearn.metrics import confusion_matrix,accuracy_score,classification_report"
        }, 
        {
            "metadata": {}, 
            "execution_count": 15, 
            "cell_type": "code", 
            "outputs": [], 
            "source": "# The code was removed by Watson Studio for sharing."
        }, 
        {
            "metadata": {}, 
            "execution_count": 16, 
            "cell_type": "code", 
            "outputs": [], 
            "source": "# The code was removed by Watson Studio for sharing."
        }, 
        {
            "metadata": {}, 
            "execution_count": 29, 
            "cell_type": "code", 
            "outputs": [
                {
                    "metadata": {}, 
                    "data": {
                        "text/html": "<div>\n<style scoped>\n    .dataframe tbody tr th:only-of-type {\n        vertical-align: middle;\n    }\n\n    .dataframe tbody tr th {\n        vertical-align: top;\n    }\n\n    .dataframe thead th {\n        text-align: right;\n    }\n</style>\n<table border=\"1\" class=\"dataframe\">\n  <thead>\n    <tr style=\"text-align: right;\">\n      <th></th>\n      <th>PassengerId</th>\n      <th>Survived</th>\n      <th>Pclass</th>\n      <th>Name</th>\n      <th>Sex</th>\n      <th>Age</th>\n      <th>SibSp</th>\n      <th>Parch</th>\n      <th>Ticket</th>\n      <th>Fare</th>\n      <th>Cabin</th>\n      <th>Embarked</th>\n    </tr>\n  </thead>\n  <tbody>\n    <tr>\n      <th>0</th>\n      <td>1</td>\n      <td>0</td>\n      <td>3</td>\n      <td>Braund, Mr. Owen Harris</td>\n      <td>male</td>\n      <td>22.0</td>\n      <td>1</td>\n      <td>0</td>\n      <td>A/5 21171</td>\n      <td>7.2500</td>\n      <td>NaN</td>\n      <td>S</td>\n    </tr>\n    <tr>\n      <th>1</th>\n      <td>2</td>\n      <td>1</td>\n      <td>1</td>\n      <td>Cumings, Mrs. John Bradley (Florence Briggs Th...</td>\n      <td>female</td>\n      <td>38.0</td>\n      <td>1</td>\n      <td>0</td>\n      <td>PC 17599</td>\n      <td>71.2833</td>\n      <td>C85</td>\n      <td>C</td>\n    </tr>\n    <tr>\n      <th>2</th>\n      <td>3</td>\n      <td>1</td>\n      <td>3</td>\n      <td>Heikkinen, Miss. Laina</td>\n      <td>female</td>\n      <td>26.0</td>\n      <td>0</td>\n      <td>0</td>\n      <td>STON/O2. 3101282</td>\n      <td>7.9250</td>\n      <td>NaN</td>\n      <td>S</td>\n    </tr>\n    <tr>\n      <th>3</th>\n      <td>4</td>\n      <td>1</td>\n      <td>1</td>\n      <td>Futrelle, Mrs. Jacques Heath (Lily May Peel)</td>\n      <td>female</td>\n      <td>35.0</td>\n      <td>1</td>\n      <td>0</td>\n      <td>113803</td>\n      <td>53.1000</td>\n      <td>C123</td>\n      <td>S</td>\n    </tr>\n    <tr>\n      <th>4</th>\n      <td>5</td>\n      <td>0</td>\n      <td>3</td>\n      <td>Allen, Mr. William Henry</td>\n      <td>male</td>\n      <td>35.0</td>\n      <td>0</td>\n      <td>0</td>\n      <td>373450</td>\n      <td>8.0500</td>\n      <td>NaN</td>\n      <td>S</td>\n    </tr>\n  </tbody>\n</table>\n</div>", 
                        "text/plain": "   PassengerId  Survived  Pclass  \\\n0            1         0       3   \n1            2         1       1   \n2            3         1       3   \n3            4         1       1   \n4            5         0       3   \n\n                                                Name     Sex   Age  SibSp  \\\n0                            Braund, Mr. Owen Harris    male  22.0      1   \n1  Cumings, Mrs. John Bradley (Florence Briggs Th...  female  38.0      1   \n2                             Heikkinen, Miss. Laina  female  26.0      0   \n3       Futrelle, Mrs. Jacques Heath (Lily May Peel)  female  35.0      1   \n4                           Allen, Mr. William Henry    male  35.0      0   \n\n   Parch            Ticket     Fare Cabin Embarked  \n0      0         A/5 21171   7.2500   NaN        S  \n1      0          PC 17599  71.2833   C85        C  \n2      0  STON/O2. 3101282   7.9250   NaN        S  \n3      0            113803  53.1000  C123        S  \n4      0            373450   8.0500   NaN        S  "
                    }, 
                    "execution_count": 29, 
                    "output_type": "execute_result"
                }
            ], 
            "source": "# The code was removed by Watson Studio for sharing."
        }, 
        {
            "metadata": {}, 
            "execution_count": 30, 
            "cell_type": "code", 
            "outputs": [], 
            "source": "df=df_data_3"
        }, 
        {
            "metadata": {}, 
            "execution_count": 31, 
            "cell_type": "code", 
            "outputs": [
                {
                    "name": "stdout", 
                    "output_type": "stream", 
                    "text": "<class 'pandas.core.frame.DataFrame'>\nRangeIndex: 891 entries, 0 to 890\nData columns (total 12 columns):\nPassengerId    891 non-null int64\nSurvived       891 non-null int64\nPclass         891 non-null int64\nName           891 non-null object\nSex            891 non-null object\nAge            714 non-null float64\nSibSp          891 non-null int64\nParch          891 non-null int64\nTicket         891 non-null object\nFare           891 non-null float64\nCabin          204 non-null object\nEmbarked       889 non-null object\ndtypes: float64(2), int64(5), object(5)\nmemory usage: 83.6+ KB\n"
                }
            ], 
            "source": "df.info()"
        }, 
        {
            "metadata": {}, 
            "execution_count": 32, 
            "cell_type": "code", 
            "outputs": [
                {
                    "metadata": {}, 
                    "data": {
                        "text/plain": "0    549\n1    342\nName: Survived, dtype: int64"
                    }, 
                    "execution_count": 32, 
                    "output_type": "execute_result"
                }
            ], 
            "source": "df['Survived'].value_counts()"
        }, 
        {
            "metadata": {}, 
            "execution_count": 33, 
            "cell_type": "code", 
            "outputs": [
                {
                    "metadata": {}, 
                    "data": {
                        "text/plain": "male      577\nfemale    314\nName: Sex, dtype: int64"
                    }, 
                    "execution_count": 33, 
                    "output_type": "execute_result"
                }
            ], 
            "source": "df['Sex'].value_counts()"
        }, 
        {
            "metadata": {}, 
            "execution_count": 34, 
            "cell_type": "code", 
            "outputs": [], 
            "source": "#Based on Countplot we can see Women Survived More compare to Men"
        }, 
        {
            "metadata": {}, 
            "execution_count": 35, 
            "cell_type": "code", 
            "outputs": [
                {
                    "name": "stderr", 
                    "output_type": "stream", 
                    "text": "/opt/ibm/conda/miniconda3/lib/python3.5/site-packages/seaborn/categorical.py:1508: FutureWarning: remove_na is deprecated and is a private function. Do not use.\n  stat_data = remove_na(group_data[hue_mask])\n"
                }, 
                {
                    "metadata": {}, 
                    "data": {
                        "text/plain": "<matplotlib.axes._subplots.AxesSubplot at 0x7fb06a3dd5f8>"
                    }, 
                    "execution_count": 35, 
                    "output_type": "execute_result"
                }, 
                {
                    "metadata": {}, 
                    "data": {
                        "text/plain": "<matplotlib.figure.Figure at 0x7fb06a3dd080>", 
                        "image/png": "[encoded data removed]"
                    }, 
                    "output_type": "display_data"
                }
            ], 
            "source": "sns.countplot('Survived',hue='Sex',data=df)"
        }, 
        {
            "metadata": {}, 
            "execution_count": 36, 
            "cell_type": "code", 
            "outputs": [], 
            "source": "#People belongs to Pclass 1 Survived more than pclass 2 and 3, might be higher class people Evacuated First"
        }, 
        {
            "metadata": {}, 
            "execution_count": 37, 
            "cell_type": "code", 
            "outputs": [
                {
                    "name": "stderr", 
                    "output_type": "stream", 
                    "text": "/opt/ibm/conda/miniconda3/lib/python3.5/site-packages/seaborn/categorical.py:1508: FutureWarning: remove_na is deprecated and is a private function. Do not use.\n  stat_data = remove_na(group_data[hue_mask])\n"
                }, 
                {
                    "metadata": {}, 
                    "data": {
                        "text/plain": "<matplotlib.axes._subplots.AxesSubplot at 0x7fb0607eac88>"
                    }, 
                    "execution_count": 37, 
                    "output_type": "execute_result"
                }, 
                {
                    "metadata": {}, 
                    "data": {
                        "text/plain": "<matplotlib.figure.Figure at 0x7fb06a3dd588>", 
                        "image/png": "[encoded data removed]"
                    }, 
                    "output_type": "display_data"
                }
            ], 
            "source": "sns.countplot('Pclass',hue='Survived',data=df)"
        }, 
        {
            "metadata": {}, 
            "execution_count": 38, 
            "cell_type": "code", 
            "outputs": [], 
            "source": "#Checking for Null Columns"
        }, 
        {
            "metadata": {}, 
            "execution_count": 39, 
            "cell_type": "code", 
            "outputs": [], 
            "source": "pernull=df.isnull().sum()/df.isnull().count()"
        }, 
        {
            "metadata": {}, 
            "execution_count": 40, 
            "cell_type": "code", 
            "outputs": [
                {
                    "metadata": {}, 
                    "data": {
                        "text/plain": "PassengerId    0.000000\nSurvived       0.000000\nPclass         0.000000\nName           0.000000\nSex            0.000000\nAge            0.198653\nSibSp          0.000000\nParch          0.000000\nTicket         0.000000\nFare           0.000000\nCabin          0.771044\nEmbarked       0.002245\ndtype: float64"
                    }, 
                    "execution_count": 40, 
                    "output_type": "execute_result"
                }
            ], 
            "source": "pernull"
        }, 
        {
            "metadata": {}, 
            "execution_count": 41, 
            "cell_type": "code", 
            "outputs": [], 
            "source": "#Checking % of Men and Women Survived, we got to know Men survived more compare to Women, men=18%, Women =74% Survival rate"
        }, 
        {
            "metadata": {}, 
            "execution_count": 42, 
            "cell_type": "code", 
            "outputs": [
                {
                    "metadata": {}, 
                    "data": {
                        "text/plain": "0.18890814558058924"
                    }, 
                    "execution_count": 42, 
                    "output_type": "execute_result"
                }
            ], 
            "source": "df[df['Sex']=='male'].Survived.sum()/df[df['Sex']=='male'].Survived.count()"
        }, 
        {
            "metadata": {}, 
            "execution_count": 43, 
            "cell_type": "code", 
            "outputs": [
                {
                    "metadata": {}, 
                    "data": {
                        "text/plain": "0.7420382165605095"
                    }, 
                    "execution_count": 43, 
                    "output_type": "execute_result"
                }
            ], 
            "source": "df[df['Sex']=='female'].Survived.sum()/df[df['Sex']=='female'].Survived.count()"
        }, 
        {
            "metadata": {}, 
            "execution_count": 44, 
            "cell_type": "code", 
            "outputs": [
                {
                    "name": "stderr", 
                    "output_type": "stream", 
                    "text": "/opt/ibm/conda/miniconda3/lib/python3.5/site-packages/seaborn/categorical.py:462: FutureWarning: remove_na is deprecated and is a private function. Do not use.\n  box_data = remove_na(group_data)\n"
                }, 
                {
                    "metadata": {}, 
                    "data": {
                        "text/plain": "<matplotlib.axes._subplots.AxesSubplot at 0x7fb060463ba8>"
                    }, 
                    "execution_count": 44, 
                    "output_type": "execute_result"
                }, 
                {
                    "metadata": {}, 
                    "data": {
                        "text/plain": "<matplotlib.figure.Figure at 0x7fb060783cf8>", 
                        "image/png": "[encoded data removed]"
                    }, 
                    "output_type": "display_data"
                }
            ], 
            "source": "sns.boxplot(x='Pclass',y='Age',data=df)"
        }, 
        {
            "metadata": {}, 
            "execution_count": 45, 
            "cell_type": "code", 
            "outputs": [], 
            "source": "#Age Column is having Null Values so adding median of every Pclass age to null places in Age Column"
        }, 
        {
            "metadata": {}, 
            "execution_count": 46, 
            "cell_type": "code", 
            "outputs": [], 
            "source": "def fun(val):\n    age=val[0]\n    pclass=val[1]\n    if pd.isnull(val[0]):\n        if pclass==1:\n            return 37\n        if pclass ==2:\n            return 29\n        if pclass==3:\n            return 24\n    else:\n        return age       "
        }, 
        {
            "metadata": {}, 
            "execution_count": 47, 
            "cell_type": "code", 
            "outputs": [], 
            "source": "df['age']=df[['Age','Pclass']].apply(fun,axis=1)"
        }, 
        {
            "metadata": {}, 
            "execution_count": 48, 
            "cell_type": "code", 
            "outputs": [
                {
                    "metadata": {}, 
                    "data": {
                        "text/plain": "0"
                    }, 
                    "execution_count": 48, 
                    "output_type": "execute_result"
                }
            ], 
            "source": "df['age'].isnull().sum()"
        }, 
        {
            "metadata": {}, 
            "execution_count": 49, 
            "cell_type": "code", 
            "outputs": [], 
            "source": "df['age']=df['age'].astype(int)"
        }, 
        {
            "metadata": {}, 
            "execution_count": 50, 
            "cell_type": "code", 
            "outputs": [
                {
                    "metadata": {}, 
                    "data": {
                        "text/plain": "<matplotlib.axes._subplots.AxesSubplot at 0x7fb05c43c0b8>"
                    }, 
                    "execution_count": 50, 
                    "output_type": "execute_result"
                }, 
                {
                    "metadata": {}, 
                    "data": {
                        "text/plain": "<matplotlib.figure.Figure at 0x7fb05c42a860>", 
                        "image/png": "[encoded data removed]"
                    }, 
                    "output_type": "display_data"
                }
            ], 
            "source": "sns.distplot(df['Fare'],bins=50)"
        }, 
        {
            "metadata": {}, 
            "execution_count": 51, 
            "cell_type": "code", 
            "outputs": [
                {
                    "metadata": {}, 
                    "data": {
                        "text/plain": "S    644\nC    168\nQ     77\nName: Embarked, dtype: int64"
                    }, 
                    "execution_count": 51, 
                    "output_type": "execute_result"
                }
            ], 
            "source": "df['Embarked'].value_counts()"
        }, 
        {
            "metadata": {}, 
            "execution_count": 52, 
            "cell_type": "code", 
            "outputs": [], 
            "source": "#Inserting highest value in Embarked column('S') to null places in Embarked"
        }, 
        {
            "metadata": {}, 
            "execution_count": 53, 
            "cell_type": "code", 
            "outputs": [], 
            "source": "df['Embarked']=df['Embarked'].fillna('S')"
        }, 
        {
            "metadata": {}, 
            "execution_count": 54, 
            "cell_type": "code", 
            "outputs": [
                {
                    "metadata": {}, 
                    "data": {
                        "text/plain": "0"
                    }, 
                    "execution_count": 54, 
                    "output_type": "execute_result"
                }
            ], 
            "source": "df['Embarked'].isnull().sum()"
        }, 
        {
            "metadata": {}, 
            "execution_count": 55, 
            "cell_type": "code", 
            "outputs": [], 
            "source": "#Concatinating Sibsp and Parch Column and creating Relative Column"
        }, 
        {
            "metadata": {}, 
            "execution_count": 56, 
            "cell_type": "code", 
            "outputs": [], 
            "source": "df['relative']=df['SibSp']+df['Parch']"
        }, 
        {
            "metadata": {}, 
            "execution_count": 57, 
            "cell_type": "code", 
            "outputs": [
                {
                    "metadata": {}, 
                    "data": {
                        "text/plain": "0       1\n1       1\n2       0\n3       1\n4       0\n5       0\n6       0\n7       4\n8       2\n9       1\n10      2\n11      0\n12      0\n13      6\n14      0\n15      0\n16      5\n17      0\n18      1\n19      0\n20      0\n21      0\n22      0\n23      0\n24      4\n25      6\n26      0\n27      5\n28      0\n29      0\n       ..\n861     1\n862     0\n863    10\n864     0\n865     0\n866     1\n867     0\n868     0\n869     2\n870     0\n871     2\n872     0\n873     0\n874     1\n875     0\n876     0\n877     0\n878     0\n879     1\n880     1\n881     0\n882     0\n883     0\n884     0\n885     5\n886     0\n887     0\n888     3\n889     0\n890     0\nName: relative, Length: 891, dtype: int64"
                    }, 
                    "execution_count": 57, 
                    "output_type": "execute_result"
                }
            ], 
            "source": "df['relative']"
        }, 
        {
            "metadata": {}, 
            "execution_count": 58, 
            "cell_type": "code", 
            "outputs": [], 
            "source": "df.loc[df['relative']>0,'non-relative']=0\ndf.loc[df['relative']==0, 'non-relative']=1"
        }, 
        {
            "metadata": {}, 
            "execution_count": 59, 
            "cell_type": "code", 
            "outputs": [], 
            "source": "df['non-relative']=df['non-relative'].astype(int)"
        }, 
        {
            "metadata": {}, 
            "execution_count": 60, 
            "cell_type": "code", 
            "outputs": [], 
            "source": "df['Fare']=df['Fare'].astype(int)"
        }, 
        {
            "metadata": {}, 
            "execution_count": 61, 
            "cell_type": "code", 
            "outputs": [], 
            "source": "#Using Label Encoder to convert Categorial to Numerical Values"
        }, 
        {
            "metadata": {}, 
            "execution_count": 62, 
            "cell_type": "code", 
            "outputs": [], 
            "source": "Labelenc=LabelEncoder()"
        }, 
        {
            "metadata": {}, 
            "execution_count": 63, 
            "cell_type": "code", 
            "outputs": [], 
            "source": "df['Sex']=Labelenc.fit_transform(df['Sex'])"
        }, 
        {
            "metadata": {}, 
            "execution_count": 64, 
            "cell_type": "code", 
            "outputs": [], 
            "source": "df['Embarked']=Labelenc.fit_transform(df['Embarked'])\n"
        }, 
        {
            "metadata": {}, 
            "execution_count": 65, 
            "cell_type": "code", 
            "outputs": [], 
            "source": "#Deleting Columns"
        }, 
        {
            "metadata": {}, 
            "execution_count": 66, 
            "cell_type": "code", 
            "outputs": [], 
            "source": "df.drop(['Age','Cabin','Name','Ticket','SibSp','Parch'],axis=1,inplace=True)"
        }, 
        {
            "metadata": {}, 
            "execution_count": 67, 
            "cell_type": "code", 
            "outputs": [], 
            "source": "#Final dataframe"
        }, 
        {
            "metadata": {}, 
            "execution_count": 127, 
            "cell_type": "code", 
            "outputs": [
                {
                    "metadata": {}, 
                    "data": {
                        "text/html": "<div>\n<style scoped>\n    .dataframe tbody tr th:only-of-type {\n        vertical-align: middle;\n    }\n\n    .dataframe tbody tr th {\n        vertical-align: top;\n    }\n\n    .dataframe thead th {\n        text-align: right;\n    }\n</style>\n<table border=\"1\" class=\"dataframe\">\n  <thead>\n    <tr style=\"text-align: right;\">\n      <th></th>\n      <th>PassengerId</th>\n      <th>Survived</th>\n      <th>Pclass</th>\n      <th>Sex</th>\n      <th>Fare</th>\n      <th>Embarked</th>\n      <th>age</th>\n      <th>relative</th>\n      <th>non-relative</th>\n    </tr>\n  </thead>\n  <tbody>\n    <tr>\n      <th>0</th>\n      <td>1</td>\n      <td>0</td>\n      <td>3</td>\n      <td>1</td>\n      <td>7</td>\n      <td>2</td>\n      <td>22</td>\n      <td>1</td>\n      <td>0</td>\n    </tr>\n    <tr>\n      <th>1</th>\n      <td>2</td>\n      <td>1</td>\n      <td>1</td>\n      <td>0</td>\n      <td>71</td>\n      <td>0</td>\n      <td>38</td>\n      <td>1</td>\n      <td>0</td>\n    </tr>\n    <tr>\n      <th>2</th>\n      <td>3</td>\n      <td>1</td>\n      <td>3</td>\n      <td>0</td>\n      <td>7</td>\n      <td>2</td>\n      <td>26</td>\n      <td>0</td>\n      <td>1</td>\n    </tr>\n    <tr>\n      <th>3</th>\n      <td>4</td>\n      <td>1</td>\n      <td>1</td>\n      <td>0</td>\n      <td>53</td>\n      <td>2</td>\n      <td>35</td>\n      <td>1</td>\n      <td>0</td>\n    </tr>\n    <tr>\n      <th>4</th>\n      <td>5</td>\n      <td>0</td>\n      <td>3</td>\n      <td>1</td>\n      <td>8</td>\n      <td>2</td>\n      <td>35</td>\n      <td>0</td>\n      <td>1</td>\n    </tr>\n    <tr>\n      <th>5</th>\n      <td>6</td>\n      <td>0</td>\n      <td>3</td>\n      <td>1</td>\n      <td>8</td>\n      <td>1</td>\n      <td>24</td>\n      <td>0</td>\n      <td>1</td>\n    </tr>\n    <tr>\n      <th>6</th>\n      <td>7</td>\n      <td>0</td>\n      <td>1</td>\n      <td>1</td>\n      <td>51</td>\n      <td>2</td>\n      <td>54</td>\n      <td>0</td>\n      <td>1</td>\n    </tr>\n    <tr>\n      <th>7</th>\n      <td>8</td>\n      <td>0</td>\n      <td>3</td>\n      <td>1</td>\n      <td>21</td>\n      <td>2</td>\n      <td>2</td>\n      <td>4</td>\n      <td>0</td>\n    </tr>\n    <tr>\n      <th>8</th>\n      <td>9</td>\n      <td>1</td>\n      <td>3</td>\n      <td>0</td>\n      <td>11</td>\n      <td>2</td>\n      <td>27</td>\n      <td>2</td>\n      <td>0</td>\n    </tr>\n    <tr>\n      <th>9</th>\n      <td>10</td>\n      <td>1</td>\n      <td>2</td>\n      <td>0</td>\n      <td>30</td>\n      <td>0</td>\n      <td>14</td>\n      <td>1</td>\n      <td>0</td>\n    </tr>\n  </tbody>\n</table>\n</div>", 
                        "text/plain": "   PassengerId  Survived  Pclass  Sex  Fare  Embarked  age  relative  \\\n0            1         0       3    1     7         2   22         1   \n1            2         1       1    0    71         0   38         1   \n2            3         1       3    0     7         2   26         0   \n3            4         1       1    0    53         2   35         1   \n4            5         0       3    1     8         2   35         0   \n5            6         0       3    1     8         1   24         0   \n6            7         0       1    1    51         2   54         0   \n7            8         0       3    1    21         2    2         4   \n8            9         1       3    0    11         2   27         2   \n9           10         1       2    0    30         0   14         1   \n\n   non-relative  \n0             0  \n1             0  \n2             1  \n3             0  \n4             1  \n5             1  \n6             1  \n7             0  \n8             0  \n9             0  "
                    }, 
                    "execution_count": 127, 
                    "output_type": "execute_result"
                }
            ], 
            "source": "df.head(10)"
        }, 
        {
            "metadata": {}, 
            "execution_count": 68, 
            "cell_type": "code", 
            "outputs": [
                {
                    "name": "stdout", 
                    "output_type": "stream", 
                    "text": "<class 'pandas.core.frame.DataFrame'>\nRangeIndex: 891 entries, 0 to 890\nData columns (total 9 columns):\nPassengerId     891 non-null int64\nSurvived        891 non-null int64\nPclass          891 non-null int64\nSex             891 non-null int64\nFare            891 non-null int64\nEmbarked        891 non-null int64\nage             891 non-null int64\nrelative        891 non-null int64\nnon-relative    891 non-null int64\ndtypes: int64(9)\nmemory usage: 62.7 KB\n"
                }
            ], 
            "source": "df.info()"
        }, 
        {
            "metadata": {}, 
            "execution_count": 69, 
            "cell_type": "code", 
            "outputs": [], 
            "source": "x=df.drop('Survived',axis=1)"
        }, 
        {
            "metadata": {}, 
            "execution_count": 70, 
            "cell_type": "code", 
            "outputs": [], 
            "source": "y=df['Survived']"
        }, 
        {
            "metadata": {}, 
            "execution_count": 71, 
            "cell_type": "code", 
            "outputs": [], 
            "source": "x_trn,x_tst,y_trn,y_tst=train_test_split(x,y,random_state=10,test_size=0.2)"
        }, 
        {
            "metadata": {}, 
            "execution_count": 72, 
            "cell_type": "code", 
            "outputs": [], 
            "source": "randomclf=RandomForestClassifier(n_estimators=25,criterion='gini',max_depth=7,random_state=100)"
        }, 
        {
            "metadata": {}, 
            "execution_count": 73, 
            "cell_type": "code", 
            "outputs": [
                {
                    "metadata": {}, 
                    "data": {
                        "text/plain": "RandomForestClassifier(bootstrap=True, class_weight=None, criterion='gini',\n            max_depth=7, max_features='auto', max_leaf_nodes=None,\n            min_impurity_decrease=0.0, min_impurity_split=None,\n            min_samples_leaf=1, min_samples_split=2,\n            min_weight_fraction_leaf=0.0, n_estimators=25, n_jobs=1,\n            oob_score=False, random_state=100, verbose=0, warm_start=False)"
                    }, 
                    "execution_count": 73, 
                    "output_type": "execute_result"
                }
            ], 
            "source": "randomclf.fit(x_trn,y_trn)"
        }, 
        {
            "metadata": {}, 
            "execution_count": 74, 
            "cell_type": "code", 
            "outputs": [], 
            "source": "randompred=randomclf.predict(x_tst)"
        }, 
        {
            "metadata": {}, 
            "execution_count": 75, 
            "cell_type": "code", 
            "outputs": [], 
            "source": "decisiontreeclf=DecisionTreeClassifier(max_depth=7,criterion='entropy',random_state=100,max_features=3)"
        }, 
        {
            "metadata": {}, 
            "execution_count": 76, 
            "cell_type": "code", 
            "outputs": [
                {
                    "metadata": {}, 
                    "data": {
                        "text/plain": "DecisionTreeClassifier(class_weight=None, criterion='entropy', max_depth=7,\n            max_features=3, max_leaf_nodes=None, min_impurity_decrease=0.0,\n            min_impurity_split=None, min_samples_leaf=1,\n            min_samples_split=2, min_weight_fraction_leaf=0.0,\n            presort=False, random_state=100, splitter='best')"
                    }, 
                    "execution_count": 76, 
                    "output_type": "execute_result"
                }
            ], 
            "source": "decisiontreeclf.fit(x_trn,y_trn)"
        }, 
        {
            "metadata": {}, 
            "execution_count": 77, 
            "cell_type": "code", 
            "outputs": [], 
            "source": "decisiontreepred=decisiontreeclf.predict(x_tst)"
        }, 
        {
            "metadata": {}, 
            "execution_count": 78, 
            "cell_type": "code", 
            "outputs": [], 
            "source": "gausianclf=GaussianNB()"
        }, 
        {
            "metadata": {}, 
            "execution_count": 79, 
            "cell_type": "code", 
            "outputs": [
                {
                    "metadata": {}, 
                    "data": {
                        "text/plain": "GaussianNB(priors=None)"
                    }, 
                    "execution_count": 79, 
                    "output_type": "execute_result"
                }
            ], 
            "source": "gausianclf.fit(x_trn,y_trn)"
        }, 
        {
            "metadata": {}, 
            "execution_count": 80, 
            "cell_type": "code", 
            "outputs": [], 
            "source": "gausianpred=gausianclf.predict(x_tst)"
        }, 
        {
            "metadata": {}, 
            "execution_count": 81, 
            "cell_type": "code", 
            "outputs": [], 
            "source": "svmclf=SVC(kernel='linear',C=1,gamma=0.1).fit(x_trn,y_trn)"
        }, 
        {
            "metadata": {}, 
            "execution_count": 82, 
            "cell_type": "code", 
            "outputs": [], 
            "source": "svmpred=svmclf.predict(x_tst)"
        }, 
        {
            "metadata": {}, 
            "execution_count": 83, 
            "cell_type": "code", 
            "outputs": [], 
            "source": "logisticclf=LogisticRegression().fit(x_trn,y_trn)"
        }, 
        {
            "metadata": {}, 
            "execution_count": 84, 
            "cell_type": "code", 
            "outputs": [], 
            "source": "logisticpred=logisticclf.predict(x_tst)"
        }, 
        {
            "metadata": {}, 
            "execution_count": 85, 
            "cell_type": "code", 
            "outputs": [
                {
                    "metadata": {}, 
                    "data": {
                        "text/plain": "array([[107,  13],\n       [ 10,  49]])"
                    }, 
                    "execution_count": 85, 
                    "output_type": "execute_result"
                }
            ], 
            "source": "confusion_matrix(randompred,y_tst)"
        }, 
        {
            "metadata": {}, 
            "execution_count": 86, 
            "cell_type": "code", 
            "outputs": [
                {
                    "metadata": {}, 
                    "data": {
                        "text/plain": "'             precision    recall  f1-score   support\\n\\n          0       0.91      0.89      0.90       120\\n          1       0.79      0.83      0.81        59\\n\\navg / total       0.87      0.87      0.87       179\\n'"
                    }, 
                    "execution_count": 86, 
                    "output_type": "execute_result"
                }
            ], 
            "source": "classification_report(randompred,y_tst)"
        }, 
        {
            "metadata": {}, 
            "execution_count": 87, 
            "cell_type": "code", 
            "outputs": [
                {
                    "metadata": {}, 
                    "data": {
                        "text/plain": "0.87150837988826813"
                    }, 
                    "execution_count": 87, 
                    "output_type": "execute_result"
                }
            ], 
            "source": "accuracy_score(randompred,y_tst)"
        }, 
        {
            "metadata": {}, 
            "execution_count": 88, 
            "cell_type": "code", 
            "outputs": [
                {
                    "metadata": {}, 
                    "data": {
                        "text/plain": "array([[103,   9],\n       [ 14,  53]])"
                    }, 
                    "execution_count": 88, 
                    "output_type": "execute_result"
                }
            ], 
            "source": "confusion_matrix(decisiontreepred,y_tst)"
        }, 
        {
            "metadata": {}, 
            "execution_count": 89, 
            "cell_type": "code", 
            "outputs": [
                {
                    "metadata": {}, 
                    "data": {
                        "text/plain": "'             precision    recall  f1-score   support\\n\\n          0       0.88      0.92      0.90       112\\n          1       0.85      0.79      0.82        67\\n\\navg / total       0.87      0.87      0.87       179\\n'"
                    }, 
                    "execution_count": 89, 
                    "output_type": "execute_result"
                }
            ], 
            "source": "classification_report(decisiontreepred,y_tst)"
        }, 
        {
            "metadata": {}, 
            "execution_count": 90, 
            "cell_type": "code", 
            "outputs": [
                {
                    "metadata": {}, 
                    "data": {
                        "text/plain": "0.87150837988826813"
                    }, 
                    "execution_count": 90, 
                    "output_type": "execute_result"
                }
            ], 
            "source": "accuracy_score(decisiontreepred,y_tst)"
        }, 
        {
            "metadata": {}, 
            "execution_count": 91, 
            "cell_type": "code", 
            "outputs": [
                {
                    "metadata": {}, 
                    "data": {
                        "text/plain": "'             precision    recall  f1-score   support\\n\\n          0       0.85      0.88      0.87       114\\n          1       0.77      0.74      0.76        65\\n\\navg / total       0.83      0.83      0.83       179\\n'"
                    }, 
                    "execution_count": 91, 
                    "output_type": "execute_result"
                }
            ], 
            "source": "classification_report(gausianpred,y_tst)"
        }, 
        {
            "metadata": {}, 
            "execution_count": 92, 
            "cell_type": "code", 
            "outputs": [
                {
                    "metadata": {}, 
                    "data": {
                        "text/plain": "array([[100,  14],\n       [ 17,  48]])"
                    }, 
                    "execution_count": 92, 
                    "output_type": "execute_result"
                }
            ], 
            "source": "confusion_matrix(gausianpred,y_tst)"
        }, 
        {
            "metadata": {}, 
            "execution_count": 93, 
            "cell_type": "code", 
            "outputs": [
                {
                    "metadata": {}, 
                    "data": {
                        "text/plain": "0.82681564245810057"
                    }, 
                    "execution_count": 93, 
                    "output_type": "execute_result"
                }
            ], 
            "source": "accuracy_score(gausianpred,y_tst)"
        }, 
        {
            "metadata": {}, 
            "execution_count": 94, 
            "cell_type": "code", 
            "outputs": [
                {
                    "metadata": {}, 
                    "data": {
                        "text/plain": "'             precision    recall  f1-score   support\\n\\n          0       0.89      0.84      0.86       124\\n          1       0.68      0.76      0.72        55\\n\\navg / total       0.82      0.82      0.82       179\\n'"
                    }, 
                    "execution_count": 94, 
                    "output_type": "execute_result"
                }
            ], 
            "source": "classification_report(svmpred,y_tst)"
        }, 
        {
            "metadata": {}, 
            "execution_count": 95, 
            "cell_type": "code", 
            "outputs": [
                {
                    "metadata": {}, 
                    "data": {
                        "text/plain": "array([[104,  20],\n       [ 13,  42]])"
                    }, 
                    "execution_count": 95, 
                    "output_type": "execute_result"
                }
            ], 
            "source": "confusion_matrix(svmpred,y_tst)"
        }, 
        {
            "metadata": {}, 
            "execution_count": 96, 
            "cell_type": "code", 
            "outputs": [
                {
                    "metadata": {}, 
                    "data": {
                        "text/plain": "0.81564245810055869"
                    }, 
                    "execution_count": 96, 
                    "output_type": "execute_result"
                }
            ], 
            "source": "accuracy_score(svmpred,y_tst)"
        }, 
        {
            "metadata": {}, 
            "execution_count": 97, 
            "cell_type": "code", 
            "outputs": [
                {
                    "metadata": {}, 
                    "data": {
                        "text/plain": "array([[103,  21],\n       [ 14,  41]])"
                    }, 
                    "execution_count": 97, 
                    "output_type": "execute_result"
                }
            ], 
            "source": "confusion_matrix(logisticpred,y_tst)"
        }, 
        {
            "metadata": {}, 
            "execution_count": 98, 
            "cell_type": "code", 
            "outputs": [
                {
                    "metadata": {}, 
                    "data": {
                        "text/plain": "'             precision    recall  f1-score   support\\n\\n          0       0.88      0.83      0.85       124\\n          1       0.66      0.75      0.70        55\\n\\navg / total       0.81      0.80      0.81       179\\n'"
                    }, 
                    "execution_count": 98, 
                    "output_type": "execute_result"
                }
            ], 
            "source": "classification_report(logisticpred,y_tst)"
        }, 
        {
            "metadata": {}, 
            "execution_count": 99, 
            "cell_type": "code", 
            "outputs": [
                {
                    "metadata": {}, 
                    "data": {
                        "text/plain": "0.8044692737430168"
                    }, 
                    "execution_count": 99, 
                    "output_type": "execute_result"
                }
            ], 
            "source": "accuracy_score(logisticpred,y_tst)"
        }, 
        {
            "metadata": {}, 
            "execution_count": 100, 
            "cell_type": "code", 
            "outputs": [], 
            "source": "from sklearn.pipeline import Pipeline"
        }, 
        {
            "metadata": {}, 
            "execution_count": 102, 
            "cell_type": "code", 
            "outputs": [
                {
                    "name": "stdout", 
                    "output_type": "stream", 
                    "text": "Collecting watson-machine-learning-client\n  Downloading https://files.pythonhosted.org/packages/f6/f3/cebff2ea1088a7aca0c728c6704dc7fa1a0d592d9a989bf7cf11c5644d07/watson_machine_learning_client-1.0.333-py3-none-any.whl (932kB)\n\u001b[K    100% |################################| 942kB 773kB/s ta 0:00:011\n\u001b[?25hCollecting ibm-cos-sdk (from watson-machine-learning-client)\n  Downloading https://files.pythonhosted.org/packages/81/6d/caa16a1a85af26bb2c4902644f43b233a8db2a7d7485792c25601f67a5ae/ibm-cos-sdk-2.3.2.tar.gz (49kB)\n\u001b[K    100% |################################| 51kB 1.5MB/s eta 0:00:01\n\u001b[?25hCollecting urllib3 (from watson-machine-learning-client)\n  Downloading https://files.pythonhosted.org/packages/8c/4b/5cbc4cb46095f369117dcb751821e1bef9dd86a07c968d8757e9204c324c/urllib3-1.24-py2.py3-none-any.whl (117kB)\n\u001b[K    100% |################################| 122kB 2.2MB/s eta 0:00:01\n\u001b[?25hCollecting tqdm (from watson-machine-learning-client)\n  Downloading https://files.pythonhosted.org/packages/16/33/6d8bd6a7c4238f383426b7593bf05bfd6d9e1f10c3084b56c0f14d973754/tqdm-4.27.0-py2.py3-none-any.whl (44kB)\n\u001b[K    100% |################################| 51kB 1.6MB/s eta 0:00:01\n\u001b[?25hCollecting tabulate (from watson-machine-learning-client)\n  Downloading https://files.pythonhosted.org/packages/12/c2/11d6845db5edf1295bc08b2f488cf5937806586afe42936c3f34c097ebdc/tabulate-0.8.2.tar.gz (45kB)\n\u001b[K    100% |################################| 51kB 1.8MB/s eta 0:00:01\n\u001b[?25hCollecting requests (from watson-machine-learning-client)\n  Downloading https://files.pythonhosted.org/packages/f1/ca/10332a30cb25b627192b4ea272c351bce3ca1091e541245cccbace6051d8/requests-2.20.0-py2.py3-none-any.whl (60kB)\n\u001b[K    100% |################################| 61kB 2.0MB/s eta 0:00:01\n\u001b[?25hCollecting pandas (from watson-machine-learning-client)\n  Downloading https://files.pythonhosted.org/packages/5d/d4/6e9c56a561f1d27407bf29318ca43f36ccaa289271b805a30034eb3a8ec4/pandas-0.23.4-cp35-cp35m-manylinux1_x86_64.whl (8.7MB)\n\u001b[K    100% |################################| 8.7MB 111kB/s eta 0:00:01\n\u001b[?25hCollecting certifi (from watson-machine-learning-client)\n  Downloading https://files.pythonhosted.org/packages/56/9d/1d02dd80bc4cd955f98980f28c5ee2200e1209292d5f9e9cc8d030d18655/certifi-2018.10.15-py2.py3-none-any.whl (146kB)\n\u001b[K    100% |################################| 153kB 2.7MB/s eta 0:00:01\n\u001b[?25hCollecting lomond (from watson-machine-learning-client)\n  Downloading https://files.pythonhosted.org/packages/0f/b1/02eebed49c754b01b17de7705caa8c4ceecfb4f926cdafc220c863584360/lomond-0.3.3-py2.py3-none-any.whl\nCollecting ibm-cos-sdk-core==2.*,>=2.0.0 (from ibm-cos-sdk->watson-machine-learning-client)\n  Downloading https://files.pythonhosted.org/packages/c1/59/c0aaad1ca84586f0c6ce9481c183d5f16a6af2f271511c152c5cccc30649/ibm-cos-sdk-core-2.3.2.tar.gz (783kB)\n\u001b[K    100% |################################| 788kB 982kB/s eta 0:00:01\n\u001b[?25hCollecting ibm-cos-sdk-s3transfer==2.*,>=2.0.0 (from ibm-cos-sdk->watson-machine-learning-client)\n  Downloading https://files.pythonhosted.org/packages/4e/f1/60a4b8e2b82fa461dad02e28884e7947b235a51f221abce81d25f522888f/ibm-cos-sdk-s3transfer-2.3.2.tar.gz (189kB)\n\u001b[K    100% |################################| 194kB 1.9MB/s eta 0:00:01\n\u001b[?25hCollecting chardet<3.1.0,>=3.0.2 (from requests->watson-machine-learning-client)\n  Downloading https://files.pythonhosted.org/packages/bc/a9/01ffebfb562e4274b6487b4bb1ddec7ca55ec7510b22e4c51f14098443b8/chardet-3.0.4-py2.py3-none-any.whl (133kB)\n\u001b[K    100% |################################| 143kB 2.5MB/s eta 0:00:01\n\u001b[?25hCollecting idna<2.8,>=2.5 (from requests->watson-machine-learning-client)\n  Downloading https://files.pythonhosted.org/packages/4b/2a/0276479a4b3caeb8a8c1af2f8e4355746a97fab05a372e4a2c6a6b876165/idna-2.7-py2.py3-none-any.whl (58kB)\n\u001b[K    100% |################################| 61kB 1.8MB/s eta 0:00:01\n\u001b[?25hCollecting python-dateutil>=2.5.0 (from pandas->watson-machine-learning-client)\n  Downloading https://files.pythonhosted.org/packages/cf/f5/af2b09c957ace60dcfac112b669c45c8c97e32f94aa8b56da4c6d1682825/python_dateutil-2.7.3-py2.py3-none-any.whl (211kB)\n\u001b[K    100% |################################| 215kB 1.9MB/s eta 0:00:01\n\u001b[?25hCollecting numpy>=1.9.0 (from pandas->watson-machine-learning-client)\n  Downloading https://files.pythonhosted.org/packages/75/22/355e68c80802d6f488223788fbda75c1daab83c3ef609153676c1f17be5f/numpy-1.15.2-cp35-cp35m-manylinux1_x86_64.whl (13.8MB)\n\u001b[K    100% |################################| 13.8MB 70kB/s  eta 0:00:01\n\u001b[?25hCollecting pytz>=2011k (from pandas->watson-machine-learning-client)\n  Downloading https://files.pythonhosted.org/packages/30/4e/27c34b62430286c6d59177a0842ed90dc789ce5d1ed740887653b898779a/pytz-2018.5-py2.py3-none-any.whl (510kB)\n\u001b[K    100% |################################| 512kB 1.4MB/s eta 0:00:01\n\u001b[?25hCollecting six>=1.10.0 (from lomond->watson-machine-learning-client)\n  Downloading https://files.pythonhosted.org/packages/67/4b/141a581104b1f6397bfa78ac9d43d8ad29a7ca43ea90a2d863fe3056e86a/six-1.11.0-py2.py3-none-any.whl\nCollecting jmespath<1.0.0,>=0.7.1 (from ibm-cos-sdk-core==2.*,>=2.0.0->ibm-cos-sdk->watson-machine-learning-client)\n  Downloading https://files.pythonhosted.org/packages/b7/31/05c8d001f7f87f0f07289a5fc0fc3832e9a57f2dbd4d3b0fee70e0d51365/jmespath-0.9.3-py2.py3-none-any.whl\nCollecting docutils>=0.10 (from ibm-cos-sdk-core==2.*,>=2.0.0->ibm-cos-sdk->watson-machine-learning-client)\n  Downloading https://files.pythonhosted.org/packages/36/fa/08e9e6e0e3cbd1d362c3bbee8d01d0aedb2155c4ac112b19ef3cae8eed8d/docutils-0.14-py3-none-any.whl (543kB)\n\u001b[K    100% |################################| 552kB 1.3MB/s eta 0:00:01\n\u001b[?25hBuilding wheels for collected packages: ibm-cos-sdk, tabulate, ibm-cos-sdk-core, ibm-cos-sdk-s3transfer\n  Running setup.py bdist_wheel for ibm-cos-sdk ... \u001b[?25ldone\n\u001b[?25h  Stored in directory: /home/spark/shared/.cache/pip/wheels/7e/91/03/9358f01bd4d1149f5dab84f01885e9e0d76008f2a81a44c6bd\n  Running setup.py bdist_wheel for tabulate ... \u001b[?25ldone\n\u001b[?25h  Stored in directory: /home/spark/shared/.cache/pip/wheels/2a/85/33/2f6da85d5f10614cbe5a625eab3b3aebfdf43e7b857f25f829\n  Running setup.py bdist_wheel for ibm-cos-sdk-core ... \u001b[?25ldone\n\u001b[?25h  Stored in directory: /home/spark/shared/.cache/pip/wheels/51/30/29/b5f5354a30a756d66636baa1a4e3a783568be90c1f28b25cc0\n  Running setup.py bdist_wheel for ibm-cos-sdk-s3transfer ... \u001b[?25ldone\n\u001b[?25h  Stored in directory: /home/spark/shared/.cache/pip/wheels/56/d2/7e/a9a3720592e4f74ed9c6f0e3dc6d7ad3db9f875d5ee4a8585b\nSuccessfully built ibm-cos-sdk tabulate ibm-cos-sdk-core ibm-cos-sdk-s3transfer\nInstalling collected packages: jmespath, docutils, urllib3, six, python-dateutil, ibm-cos-sdk-core, ibm-cos-sdk-s3transfer, ibm-cos-sdk, tqdm, tabulate, chardet, certifi, idna, requests, numpy, pytz, pandas, lomond, watson-machine-learning-client\nSuccessfully installed certifi-2018.10.15 chardet-3.0.4 docutils-0.14 ibm-cos-sdk-2.3.2 ibm-cos-sdk-core-2.3.2 ibm-cos-sdk-s3transfer-2.3.2 idna-2.7 jmespath-0.9.3 lomond-0.3.3 numpy-1.15.2 pandas-0.23.4 python-dateutil-2.7.3 pytz-2018.5 requests-2.20.0 six-1.11.0 tabulate-0.8.2 tqdm-4.27.0 urllib3-1.24 watson-machine-learning-client-1.0.333\n"
                }
            ], 
            "source": "!pip install watson-machine-learning-client"
        }, 
        {
            "metadata": {}, 
            "execution_count": 103, 
            "cell_type": "code", 
            "outputs": [], 
            "source": "steps = [('classifier', randomclf)]"
        }, 
        {
            "metadata": {}, 
            "execution_count": 104, 
            "cell_type": "code", 
            "outputs": [], 
            "source": "from sklearn import preprocessing"
        }, 
        {
            "metadata": {}, 
            "execution_count": 105, 
            "cell_type": "code", 
            "outputs": [], 
            "source": "scaler = preprocessing.StandardScaler()"
        }, 
        {
            "metadata": {}, 
            "execution_count": 106, 
            "cell_type": "code", 
            "outputs": [], 
            "source": "pipeline=Pipeline(steps)"
        }, 
        {
            "metadata": {}, 
            "execution_count": 107, 
            "cell_type": "code", 
            "outputs": [], 
            "source": "model=pipeline.fit(x_trn,y_trn)"
        }, 
        {
            "metadata": {}, 
            "execution_count": 108, 
            "cell_type": "code", 
            "outputs": [], 
            "source": "rdmpipe=pipeline.predict(x_tst)"
        }, 
        {
            "metadata": {}, 
            "execution_count": 109, 
            "cell_type": "code", 
            "outputs": [
                {
                    "metadata": {}, 
                    "data": {
                        "text/plain": "'             precision    recall  f1-score   support\\n\\n          0       0.91      0.89      0.90       120\\n          1       0.79      0.83      0.81        59\\n\\navg / total       0.87      0.87      0.87       179\\n'"
                    }, 
                    "execution_count": 109, 
                    "output_type": "execute_result"
                }
            ], 
            "source": "classification_report(rdmpipe,y_tst)"
        }, 
        {
            "metadata": {}, 
            "execution_count": 113, 
            "cell_type": "code", 
            "outputs": [
                {
                    "name": "stderr", 
                    "output_type": "stream", 
                    "text": "WARNING:watson_machine_learning_client.metanames:'AUTHOR_EMAIL' meta prop is deprecated. It will be ignored.\n"
                }
            ], 
            "source": "from watson_machine_learning_client import WatsonMachineLearningAPIClient"
        }, 
        {
            "metadata": {}, 
            "execution_count": 114, 
            "cell_type": "code", 
            "outputs": [], 
            "source": "\nwml_credentials={\n  \"url\": \"https://eu-gb.ml.cloud.ibm.com\",\n  \"access_key\": \"-CvChaVutmx9ej6fksi2uiD7x3AORak_aPzMV9e_eZgK\",\n  \"username\": \"8be516e1-efb6-402e-9e3d-f530b9896cdb\",\n  \"password\": \"87ed4d9c-d674-4fb6-9162-6d2384af7940\",\n  \"instance_id\": \"88a9f44a-4f7a-433f-b823-bcc7c35b28ea\"\n}\n"
        }, 
        {
            "metadata": {}, 
            "execution_count": 115, 
            "cell_type": "code", 
            "outputs": [], 
            "source": "client = WatsonMachineLearningAPIClient(wml_credentials)"
        }, 
        {
            "metadata": {}, 
            "execution_count": 116, 
            "cell_type": "code", 
            "outputs": [
                {
                    "name": "stdout", 
                    "output_type": "stream", 
                    "text": "{\n  \"entity\": {\n    \"usage\": {\n      \"model_count\": {\n        \"current\": 0,\n        \"limit\": 200\n      },\n      \"expiration_date\": \"2018-11-01T00:00:00.000Z\",\n      \"deployment_count\": {\n        \"current\": 0,\n        \"limit\": 5\n      },\n      \"gpu_count\": {\n        \"current\": 0,\n        \"limit\": 8\n      },\n      \"computation_time\": {\n        \"current\": 0,\n        \"limit\": 180000\n      },\n      \"prediction_count\": {\n        \"current\": 0,\n        \"limit\": 5000\n      },\n      \"capacity_units\": {\n        \"current\": 0,\n        \"limit\": 180000000\n      }\n    },\n    \"status\": \"Active\",\n    \"tags\": null,\n    \"plan_id\": \"3f6acf43-ede8-413a-ac69-f8af3bb0cbfe\",\n    \"deployments\": {\n      \"url\": \"https://eu-gb.ml.cloud.ibm.com/v3/wml_instances/88a9f44a-4f7a-433f-b823-bcc7c35b28ea/deployments\"\n    },\n    \"plan\": \"lite\",\n    \"region\": \"eu-gb\",\n    \"source\": \"Bluemix\",\n    \"organization_guid\": \"N/A\",\n    \"space_guid\": \"N/A\",\n    \"account\": {\n      \"type\": \"TRIAL\",\n      \"name\": \"IBM\",\n      \"id\": \"9a2102e051af4d9f85e59d0f411e3a4d\"\n    },\n    \"owner\": {\n      \"email\": \"kavyaa21@in.ibm.com\",\n      \"country_code\": \"IND\",\n      \"beta_user\": true,\n      \"user_id\": \"5457338b-f12e-46b0-a324-c004bf289f6f\",\n      \"ibm_id\": \"50Q237NXR6\"\n    },\n    \"published_models\": {\n      \"url\": \"https://eu-gb.ml.cloud.ibm.com/v3/wml_instances/88a9f44a-4f7a-433f-b823-bcc7c35b28ea/published_models\"\n    }\n  },\n  \"metadata\": {\n    \"modified_at\": \"2018-10-19T05:35:22.079Z\",\n    \"url\": \"https://eu-gb.ml.cloud.ibm.com/v3/wml_instances/88a9f44a-4f7a-433f-b823-bcc7c35b28ea\",\n    \"guid\": \"88a9f44a-4f7a-433f-b823-bcc7c35b28ea\",\n    \"created_at\": \"2018-10-19T05:35:22.079Z\"\n  }\n}\n"
                }
            ], 
            "source": "import json\n\ninstance_details = client.service_instance.get_details()\nprint(json.dumps(instance_details, indent=2))"
        }, 
        {
            "metadata": {}, 
            "execution_count": 117, 
            "cell_type": "code", 
            "outputs": [], 
            "source": "model_props = {client.repository.ModelMetaNames.AUTHOR_NAME: \"Tiatnic\", \n               client.repository.ModelMetaNames.AUTHOR_EMAIL: \"ankpal57@in.ibm.com\",\n               client.repository.ModelMetaNames.NAME: \"Titanic prediction model\"}"
        }, 
        {
            "metadata": {}, 
            "execution_count": 118, 
            "cell_type": "code", 
            "outputs": [
                {
                    "name": "stdout", 
                    "output_type": "stream", 
                    "text": "----  ----  -------  ---------\nGUID  NAME  CREATED  FRAMEWORK\n----  ----  -------  ---------\n"
                }
            ], 
            "source": "\n\nmodels_details = client.repository.list_models()\n\n"
        }, 
        {
            "metadata": {}, 
            "execution_count": 119, 
            "cell_type": "code", 
            "outputs": [], 
            "source": "published_model = client.repository.store_model(model=model, meta_props=model_props, \\\n                                                training_data=x_trn, training_target=y_trn)"
        }, 
        {
            "metadata": {}, 
            "execution_count": 120, 
            "cell_type": "code", 
            "outputs": [
                {
                    "name": "stdout", 
                    "output_type": "stream", 
                    "text": "{\n  \"entity\": {\n    \"learning_iterations_url\": \"https://eu-gb.ml.cloud.ibm.com/v3/wml_instances/88a9f44a-4f7a-433f-b823-bcc7c35b28ea/published_models/c22e40d8-3367-4b56-90f1-f0e35ab5eb9b/learning_iterations\",\n    \"runtime_environment\": \"python-3.5\",\n    \"evaluation_metrics_url\": \"https://eu-gb.ml.cloud.ibm.com/v3/wml_instances/88a9f44a-4f7a-433f-b823-bcc7c35b28ea/published_models/c22e40d8-3367-4b56-90f1-f0e35ab5eb9b/evaluation_metrics\",\n    \"input_data_schema\": {\n      \"features\": {\n        \"fields\": [\n          {\n            \"name\": \"PassengerId\",\n            \"type\": \"int64\"\n          },\n          {\n            \"name\": \"Pclass\",\n            \"type\": \"int64\"\n          },\n          {\n            \"name\": \"Sex\",\n            \"type\": \"int64\"\n          },\n          {\n            \"name\": \"Fare\",\n            \"type\": \"int64\"\n          },\n          {\n            \"name\": \"Embarked\",\n            \"type\": \"int64\"\n          },\n          {\n            \"name\": \"age\",\n            \"type\": \"int64\"\n          },\n          {\n            \"name\": \"relative\",\n            \"type\": \"int64\"\n          },\n          {\n            \"name\": \"non-relative\",\n            \"type\": \"int64\"\n          }\n        ],\n        \"type\": \"DataFrame\"\n      },\n      \"labels\": {\n        \"fields\": [\n          {\n            \"name\": \"Survived\",\n            \"type\": \"int64\"\n          }\n        ],\n        \"type\": \"Series\"\n      }\n    },\n    \"learning_configuration_url\": \"https://eu-gb.ml.cloud.ibm.com/v3/wml_instances/88a9f44a-4f7a-433f-b823-bcc7c35b28ea/published_models/c22e40d8-3367-4b56-90f1-f0e35ab5eb9b/learning_configuration\",\n    \"tags\": [],\n    \"latest_version\": {\n      \"url\": \"https://eu-gb.ml.cloud.ibm.com/v3/ml_assets/models/c22e40d8-3367-4b56-90f1-f0e35ab5eb9b/versions/ba32cd68-cc51-4c11-b986-2c238031c285\",\n      \"guid\": \"ba32cd68-cc51-4c11-b986-2c238031c285\",\n      \"created_at\": \"2018-10-19T06:10:11.551Z\"\n    },\n    \"model_type\": \"scikit-learn-0.19\",\n    \"name\": \"Titanic prediction model\",\n    \"feedback_url\": \"https://eu-gb.ml.cloud.ibm.com/v3/wml_instances/88a9f44a-4f7a-433f-b823-bcc7c35b28ea/published_models/c22e40d8-3367-4b56-90f1-f0e35ab5eb9b/feedback\",\n    \"training_data_schema\": {\n      \"features\": {\n        \"fields\": [\n          {\n            \"name\": \"PassengerId\",\n            \"type\": \"int64\"\n          },\n          {\n            \"name\": \"Pclass\",\n            \"type\": \"int64\"\n          },\n          {\n            \"name\": \"Sex\",\n            \"type\": \"int64\"\n          },\n          {\n            \"name\": \"Fare\",\n            \"type\": \"int64\"\n          },\n          {\n            \"name\": \"Embarked\",\n            \"type\": \"int64\"\n          },\n          {\n            \"name\": \"age\",\n            \"type\": \"int64\"\n          },\n          {\n            \"name\": \"relative\",\n            \"type\": \"int64\"\n          },\n          {\n            \"name\": \"non-relative\",\n            \"type\": \"int64\"\n          }\n        ],\n        \"type\": \"DataFrame\"\n      },\n      \"labels\": {\n        \"fields\": [\n          {\n            \"name\": \"Survived\",\n            \"type\": \"int64\"\n          }\n        ],\n        \"type\": \"Series\"\n      }\n    },\n    \"label_col\": \"Survived\",\n    \"author\": {\n      \"name\": \"Tiatnic\"\n    },\n    \"deployments\": {\n      \"url\": \"https://eu-gb.ml.cloud.ibm.com/v3/wml_instances/88a9f44a-4f7a-433f-b823-bcc7c35b28ea/published_models/c22e40d8-3367-4b56-90f1-f0e35ab5eb9b/deployments\",\n      \"count\": 0\n    }\n  },\n  \"metadata\": {\n    \"modified_at\": \"2018-10-19T06:10:11.551Z\",\n    \"url\": \"https://eu-gb.ml.cloud.ibm.com/v3/wml_instances/88a9f44a-4f7a-433f-b823-bcc7c35b28ea/published_models/c22e40d8-3367-4b56-90f1-f0e35ab5eb9b\",\n    \"guid\": \"c22e40d8-3367-4b56-90f1-f0e35ab5eb9b\",\n    \"created_at\": \"2018-10-19T06:10:11.497Z\"\n  }\n}\n"
                }
            ], 
            "source": "published_model_uid = client.repository.get_model_uid(published_model)\nmodel_details = client.repository.get_details(published_model_uid)\n\nprint(json.dumps(model_details, indent=2))"
        }, 
        {
            "metadata": {}, 
            "execution_count": 121, 
            "cell_type": "code", 
            "outputs": [], 
            "source": "loaded_model = client.repository.load(published_model_uid)"
        }, 
        {
            "metadata": {}, 
            "execution_count": 122, 
            "cell_type": "code", 
            "outputs": [
                {
                    "name": "stdout", 
                    "output_type": "stream", 
                    "text": "\n\n#######################################################################################\n\nSynchronous deployment creation for uid: 'c22e40d8-3367-4b56-90f1-f0e35ab5eb9b' started\n\n#######################################################################################\n\n\nINITIALIZING\nDEPLOY_SUCCESS\n\n\n------------------------------------------------------------------------------------------------\nSuccessfully finished deployment creation, deployment_uid='37a4da71-d23e-4170-bceb-026f0ec2dae4'\n------------------------------------------------------------------------------------------------\n\n\n"
                }
            ], 
            "source": "created_deployment = client.deployments.create(published_model_uid, \"Deployment of locally created scikit model\")"
        }, 
        {
            "metadata": {}, 
            "execution_count": 123, 
            "cell_type": "code", 
            "outputs": [
                {
                    "name": "stdout", 
                    "output_type": "stream", 
                    "text": "https://eu-gb.ml.cloud.ibm.com/v3/wml_instances/88a9f44a-4f7a-433f-b823-bcc7c35b28ea/deployments/37a4da71-d23e-4170-bceb-026f0ec2dae4/online\n"
                }
            ], 
            "source": "scoring_endpoint = client.deployments.get_scoring_url(created_deployment)\n\nprint(scoring_endpoint)"
        }, 
        {
            "metadata": {}, 
            "execution_count": 124, 
            "cell_type": "code", 
            "outputs": [
                {
                    "name": "stdout", 
                    "output_type": "stream", 
                    "text": "{\n  \"resources\": [\n    {\n      \"entity\": {\n        \"description\": \"Description of deployment\",\n        \"scoring_url\": \"https://eu-gb.ml.cloud.ibm.com/v3/wml_instances/88a9f44a-4f7a-433f-b823-bcc7c35b28ea/deployments/37a4da71-d23e-4170-bceb-026f0ec2dae4/online\",\n        \"name\": \"Deployment of locally created scikit model\",\n        \"status_details\": {\n          \"status\": \"DEPLOY_SUCCESS\"\n        },\n        \"deployable_asset\": {\n          \"type\": \"model\",\n          \"name\": \"Titanic prediction model\",\n          \"url\": \"https://eu-gb.ml.cloud.ibm.com/v3/wml_instances/88a9f44a-4f7a-433f-b823-bcc7c35b28ea/published_models/c22e40d8-3367-4b56-90f1-f0e35ab5eb9b\",\n          \"guid\": \"c22e40d8-3367-4b56-90f1-f0e35ab5eb9b\",\n          \"created_at\": \"2018-10-19T06:10:18.916Z\"\n        },\n        \"runtime_environment\": \"python-3.5\",\n        \"status\": \"DEPLOY_SUCCESS\",\n        \"deployed_version\": {\n          \"url\": \"https://eu-gb.ml.cloud.ibm.com/v3/ml_assets/models/c22e40d8-3367-4b56-90f1-f0e35ab5eb9b/versions/ba32cd68-cc51-4c11-b986-2c238031c285\",\n          \"guid\": \"ba32cd68-cc51-4c11-b986-2c238031c285\"\n        },\n        \"type\": \"online\",\n        \"model_type\": \"scikit-learn-0.19\",\n        \"published_model\": {\n          \"name\": \"Titanic prediction model\",\n          \"created_at\": \"2018-10-19T06:10:18.916Z\",\n          \"url\": \"https://eu-gb.ml.cloud.ibm.com/v3/wml_instances/88a9f44a-4f7a-433f-b823-bcc7c35b28ea/published_models/c22e40d8-3367-4b56-90f1-f0e35ab5eb9b\",\n          \"author\": {\n            \"name\": \"Tiatnic\"\n          },\n          \"guid\": \"c22e40d8-3367-4b56-90f1-f0e35ab5eb9b\"\n        }\n      },\n      \"metadata\": {\n        \"modified_at\": \"2018-10-19T06:10:19.049Z\",\n        \"url\": \"https://eu-gb.ml.cloud.ibm.com/v3/wml_instances/88a9f44a-4f7a-433f-b823-bcc7c35b28ea/deployments/37a4da71-d23e-4170-bceb-026f0ec2dae4\",\n        \"guid\": \"37a4da71-d23e-4170-bceb-026f0ec2dae4\",\n        \"created_at\": \"2018-10-19T06:10:18.928Z\"\n      }\n    }\n  ]\n}\n"
                }
            ], 
            "source": "deployments = client.deployments.get_details()\n\nprint(json.dumps(deployments, indent=2))"
        }, 
        {
            "metadata": {}, 
            "execution_count": 125, 
            "cell_type": "code", 
            "outputs": [
                {
                    "name": "stdout", 
                    "output_type": "stream", 
                    "text": "https://eu-gb.ml.cloud.ibm.com/v3/wml_instances/88a9f44a-4f7a-433f-b823-bcc7c35b28ea/deployments/37a4da71-d23e-4170-bceb-026f0ec2dae4\n"
                }
            ], 
            "source": "deployment_url = client.deployments.get_url(created_deployment)\n\nprint(deployment_url)"
        }, 
        {
            "metadata": {}, 
            "execution_count": 126, 
            "cell_type": "code", 
            "outputs": [
                {
                    "name": "stdout", 
                    "output_type": "stream", 
                    "text": "------------------------------------  ------------------------  ------------------------  -----------------\nGUID                                  NAME                      CREATED                   FRAMEWORK\nc22e40d8-3367-4b56-90f1-f0e35ab5eb9b  Titanic prediction model  2018-10-19T06:10:11.497Z  scikit-learn-0.19\n------------------------------------  ------------------------  ------------------------  -----------------\n"
                }
            ], 
            "source": "\n\nclient.repository.list_models()\n\n"
        }, 
        {
            "metadata": {}, 
            "execution_count": 1, 
            "cell_type": "code", 
            "outputs": [
                {
                    "name": "stdout", 
                    "output_type": "stream", 
                    "text": "Waiting for a Spark session to start...\nSpark Initialization Done! ApplicationId = app-20181019134839-0000\n"
                }
            ], 
            "source": "url = 'https://eu-gb.ml.cloud.ibm.com'\nusername = '8be516e1-efb6-402e-9e3d-f530b9896cdb'\npassword = '87ed4d9c-d674-4fb6-9162-6d2384af7940'\nscoring_endpoint = 'https://eu-gb.ml.cloud.ibm.com/v3/wml_instances/88a9f44a-4f7a-433f-b823-bcc7c35b28ea/deployments/37a4da71-d23e-4170-bceb-026f0ec2dae4/online'\n\nimport urllib3, requests, json"
        }, 
        {
            "metadata": {}, 
            "execution_count": 2, 
            "cell_type": "code", 
            "outputs": [], 
            "source": "headers = urllib3.util.make_headers(basic_auth='{}:{}'.format(username, password))\npath = '{}/v3/identity/token'.format(url)\nresponse = requests.get(path, headers=headers)\nmltoken = json.loads(response.text).get('token')"
        }, 
        {
            "metadata": {}, 
            "execution_count": 9, 
            "cell_type": "code", 
            "outputs": [
                {
                    "metadata": {}, 
                    "data": {
                        "text/plain": "'{\"fields\": [\"prediction\", \"probability\"], \"values\": [[0, [0.6645033673803579, 0.33549663261964235]]]}\\n'"
                    }, 
                    "execution_count": 9, 
                    "output_type": "execute_result"
                }
            ], 
            "source": "# Call scoring endpoint with data payload\nscoring_header = {'Content-Type': 'application/json', 'Authorization': 'Bearer ' + mltoken}\npayload = {\"fields\": [\"PassengerId\",\"Sex\",\"Pclass\",\"Fare\",\"Embarked\",\"age\",\"relative\",\"non-relative\"],\"values\": [[1, 1,1,20,1,22,1,0]]}\n\nscoring = requests.post(scoring_endpoint, json=payload, headers=scoring_header)\nscoring.text"
        }, 
        {
            "metadata": {}, 
            "execution_count": null, 
            "cell_type": "code", 
            "outputs": [], 
            "source": ""
        }, 
        {
            "metadata": {}, 
            "execution_count": null, 
            "cell_type": "code", 
            "outputs": [], 
            "source": ""
        }, 
        {
            "metadata": {}, 
            "execution_count": null, 
            "cell_type": "code", 
            "outputs": [], 
            "source": ""
        }, 
        {
            "metadata": {}, 
            "execution_count": null, 
            "cell_type": "code", 
            "outputs": [], 
            "source": ""
        }
    ], 
    "nbformat_minor": 1
}