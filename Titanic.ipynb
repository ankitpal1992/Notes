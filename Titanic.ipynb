{
    "nbformat_minor": 1, 
    "metadata": {
        "kernelspec": {
            "name": "python3", 
            "display_name": "Python 3.5 with Spark", 
            "language": "python3"
        }, 
        "language_info": {
            "name": "python", 
            "mimetype": "text/x-python", 
            "pygments_lexer": "ipython3", 
            "nbconvert_exporter": "python", 
            "codemirror_mode": {
                "name": "ipython", 
                "version": 3
            }, 
            "file_extension": ".py", 
            "version": "3.5.4"
        }
    }, 
    "cells": [
        {
            "outputs": [], 
            "execution_count": 1, 
            "metadata": {}, 
            "cell_type": "code", 
            "source": "#Titanic Dataset Code to prepare machine Learning Model"
        }, 
        {
            "outputs": [
                {
                    "name": "stdout", 
                    "output_type": "stream", 
                    "text": "Waiting for a Spark session to start...\nSpark Initialization Done! ApplicationId = app-20181016025455-0000\n"
                }
            ], 
            "execution_count": 1, 
            "metadata": {}, 
            "cell_type": "code", 
            "source": "#Importing all the libraries"
        }, 
        {
            "outputs": [], 
            "execution_count": 2, 
            "metadata": {}, 
            "cell_type": "code", 
            "source": "import numpy as np"
        }, 
        {
            "outputs": [], 
            "execution_count": 3, 
            "metadata": {}, 
            "cell_type": "code", 
            "source": "import pandas as pd"
        }, 
        {
            "outputs": [], 
            "execution_count": 4, 
            "metadata": {}, 
            "cell_type": "code", 
            "source": "from matplotlib import pyplot as plt"
        }, 
        {
            "outputs": [], 
            "execution_count": 5, 
            "metadata": {}, 
            "cell_type": "code", 
            "source": "import seaborn as sns"
        }, 
        {
            "outputs": [], 
            "execution_count": 6, 
            "metadata": {}, 
            "cell_type": "code", 
            "source": "from sklearn.model_selection import train_test_split"
        }, 
        {
            "outputs": [], 
            "execution_count": 7, 
            "metadata": {}, 
            "cell_type": "code", 
            "source": "from sklearn.preprocessing import LabelEncoder"
        }, 
        {
            "outputs": [], 
            "execution_count": 8, 
            "metadata": {}, 
            "cell_type": "code", 
            "source": "from sklearn.tree import DecisionTreeClassifier"
        }, 
        {
            "outputs": [], 
            "execution_count": 9, 
            "metadata": {}, 
            "cell_type": "code", 
            "source": "from sklearn.ensemble import RandomForestClassifier"
        }, 
        {
            "outputs": [], 
            "execution_count": 10, 
            "metadata": {}, 
            "cell_type": "code", 
            "source": "from sklearn.svm import SVC"
        }, 
        {
            "outputs": [], 
            "execution_count": 11, 
            "metadata": {}, 
            "cell_type": "code", 
            "source": "from sklearn.naive_bayes import GaussianNB"
        }, 
        {
            "outputs": [], 
            "execution_count": 12, 
            "metadata": {}, 
            "cell_type": "code", 
            "source": "from sklearn.linear_model import LogisticRegression"
        }, 
        {
            "outputs": [], 
            "execution_count": 13, 
            "metadata": {}, 
            "cell_type": "code", 
            "source": "from sklearn.metrics import confusion_matrix,accuracy_score,classification_report"
        }, 
        {
            "outputs": [], 
            "execution_count": 14, 
            "metadata": {}, 
            "cell_type": "code", 
            "source": "# The code was removed by Watson Studio for sharing."
        }, 
        {
            "outputs": [
                {
                    "output_type": "execute_result", 
                    "metadata": {}, 
                    "execution_count": 17, 
                    "data": {
                        "text/html": "<div>\n<style scoped>\n    .dataframe tbody tr th:only-of-type {\n        vertical-align: middle;\n    }\n\n    .dataframe tbody tr th {\n        vertical-align: top;\n    }\n\n    .dataframe thead th {\n        text-align: right;\n    }\n</style>\n<table border=\"1\" class=\"dataframe\">\n  <thead>\n    <tr style=\"text-align: right;\">\n      <th></th>\n      <th>PassengerId</th>\n      <th>Survived</th>\n      <th>Pclass</th>\n      <th>Name</th>\n      <th>Sex</th>\n      <th>Age</th>\n      <th>SibSp</th>\n      <th>Parch</th>\n      <th>Ticket</th>\n      <th>Fare</th>\n      <th>Cabin</th>\n      <th>Embarked</th>\n    </tr>\n  </thead>\n  <tbody>\n    <tr>\n      <th>0</th>\n      <td>1</td>\n      <td>0</td>\n      <td>3</td>\n      <td>Braund, Mr. Owen Harris</td>\n      <td>male</td>\n      <td>22.0</td>\n      <td>1</td>\n      <td>0</td>\n      <td>A/5 21171</td>\n      <td>7.2500</td>\n      <td>NaN</td>\n      <td>S</td>\n    </tr>\n    <tr>\n      <th>1</th>\n      <td>2</td>\n      <td>1</td>\n      <td>1</td>\n      <td>Cumings, Mrs. John Bradley (Florence Briggs Th...</td>\n      <td>female</td>\n      <td>38.0</td>\n      <td>1</td>\n      <td>0</td>\n      <td>PC 17599</td>\n      <td>71.2833</td>\n      <td>C85</td>\n      <td>C</td>\n    </tr>\n    <tr>\n      <th>2</th>\n      <td>3</td>\n      <td>1</td>\n      <td>3</td>\n      <td>Heikkinen, Miss. Laina</td>\n      <td>female</td>\n      <td>26.0</td>\n      <td>0</td>\n      <td>0</td>\n      <td>STON/O2. 3101282</td>\n      <td>7.9250</td>\n      <td>NaN</td>\n      <td>S</td>\n    </tr>\n    <tr>\n      <th>3</th>\n      <td>4</td>\n      <td>1</td>\n      <td>1</td>\n      <td>Futrelle, Mrs. Jacques Heath (Lily May Peel)</td>\n      <td>female</td>\n      <td>35.0</td>\n      <td>1</td>\n      <td>0</td>\n      <td>113803</td>\n      <td>53.1000</td>\n      <td>C123</td>\n      <td>S</td>\n    </tr>\n    <tr>\n      <th>4</th>\n      <td>5</td>\n      <td>0</td>\n      <td>3</td>\n      <td>Allen, Mr. William Henry</td>\n      <td>male</td>\n      <td>35.0</td>\n      <td>0</td>\n      <td>0</td>\n      <td>373450</td>\n      <td>8.0500</td>\n      <td>NaN</td>\n      <td>S</td>\n    </tr>\n  </tbody>\n</table>\n</div>", 
                        "text/plain": "   PassengerId  Survived  Pclass  \\\n0            1         0       3   \n1            2         1       1   \n2            3         1       3   \n3            4         1       1   \n4            5         0       3   \n\n                                                Name     Sex   Age  SibSp  \\\n0                            Braund, Mr. Owen Harris    male  22.0      1   \n1  Cumings, Mrs. John Bradley (Florence Briggs Th...  female  38.0      1   \n2                             Heikkinen, Miss. Laina  female  26.0      0   \n3       Futrelle, Mrs. Jacques Heath (Lily May Peel)  female  35.0      1   \n4                           Allen, Mr. William Henry    male  35.0      0   \n\n   Parch            Ticket     Fare Cabin Embarked  \n0      0         A/5 21171   7.2500   NaN        S  \n1      0          PC 17599  71.2833   C85        C  \n2      0  STON/O2. 3101282   7.9250   NaN        S  \n3      0            113803  53.1000  C123        S  \n4      0            373450   8.0500   NaN        S  "
                    }
                }
            ], 
            "execution_count": 17, 
            "metadata": {}, 
            "cell_type": "code", 
            "source": "# The code was removed by Watson Studio for sharing."
        }, 
        {
            "outputs": [], 
            "execution_count": 18, 
            "metadata": {}, 
            "cell_type": "code", 
            "source": "df=df_data_2 "
        }, 
        {
            "outputs": [
                {
                    "name": "stdout", 
                    "output_type": "stream", 
                    "text": "<class 'pandas.core.frame.DataFrame'>\nRangeIndex: 891 entries, 0 to 890\nData columns (total 12 columns):\nPassengerId    891 non-null int64\nSurvived       891 non-null int64\nPclass         891 non-null int64\nName           891 non-null object\nSex            891 non-null object\nAge            714 non-null float64\nSibSp          891 non-null int64\nParch          891 non-null int64\nTicket         891 non-null object\nFare           891 non-null float64\nCabin          204 non-null object\nEmbarked       889 non-null object\ndtypes: float64(2), int64(5), object(5)\nmemory usage: 83.6+ KB\n"
                }
            ], 
            "execution_count": 19, 
            "metadata": {}, 
            "cell_type": "code", 
            "source": "df.info()"
        }, 
        {
            "outputs": [
                {
                    "output_type": "execute_result", 
                    "metadata": {}, 
                    "execution_count": 20, 
                    "data": {
                        "text/plain": "0    549\n1    342\nName: Survived, dtype: int64"
                    }
                }
            ], 
            "execution_count": 20, 
            "metadata": {}, 
            "cell_type": "code", 
            "source": "df['Survived'].value_counts()"
        }, 
        {
            "outputs": [
                {
                    "output_type": "execute_result", 
                    "metadata": {}, 
                    "execution_count": 21, 
                    "data": {
                        "text/plain": "male      577\nfemale    314\nName: Sex, dtype: int64"
                    }
                }
            ], 
            "execution_count": 21, 
            "metadata": {}, 
            "cell_type": "code", 
            "source": "df['Sex'].value_counts()"
        }, 
        {
            "outputs": [], 
            "execution_count": null, 
            "metadata": {}, 
            "cell_type": "code", 
            "source": "#Based on Countplot we can see Women Survived More compare to Men"
        }, 
        {
            "outputs": [
                {
                    "name": "stderr", 
                    "output_type": "stream", 
                    "text": "/opt/ibm/conda/miniconda3/lib/python3.5/site-packages/seaborn/categorical.py:1508: FutureWarning: remove_na is deprecated and is a private function. Do not use.\n  stat_data = remove_na(group_data[hue_mask])\n"
                }, 
                {
                    "output_type": "execute_result", 
                    "metadata": {}, 
                    "execution_count": 22, 
                    "data": {
                        "text/plain": "<matplotlib.axes._subplots.AxesSubplot at 0x7f0edc6ad400>"
                    }
                }, 
                {
                    "output_type": "display_data", 
                    "metadata": {}, 
                    "data": {
                        "image/png": "[encoded data removed]", 
                        "text/plain": "<matplotlib.figure.Figure at 0x7f0f28a30ac8>"
                    }
                }
            ], 
            "execution_count": 22, 
            "metadata": {}, 
            "cell_type": "code", 
            "source": "sns.countplot('Survived',hue='Sex',data=df)"
        }, 
        {
            "outputs": [], 
            "execution_count": null, 
            "metadata": {}, 
            "cell_type": "code", 
            "source": "#People belongs to Pclass 1 Survived more than pclass 2 and 3, might be higher class people Evacuated First"
        }, 
        {
            "outputs": [
                {
                    "name": "stderr", 
                    "output_type": "stream", 
                    "text": "/opt/ibm/conda/miniconda3/lib/python3.5/site-packages/seaborn/categorical.py:1508: FutureWarning: remove_na is deprecated and is a private function. Do not use.\n  stat_data = remove_na(group_data[hue_mask])\n"
                }, 
                {
                    "output_type": "execute_result", 
                    "metadata": {}, 
                    "execution_count": 23, 
                    "data": {
                        "text/plain": "<matplotlib.axes._subplots.AxesSubplot at 0x7f0ed4b6c630>"
                    }
                }, 
                {
                    "output_type": "display_data", 
                    "metadata": {}, 
                    "data": {
                        "image/png": "[encoded data removed]", 
                        "text/plain": "<matplotlib.figure.Figure at 0x7f0edc6ad550>"
                    }
                }
            ], 
            "execution_count": 23, 
            "metadata": {}, 
            "cell_type": "code", 
            "source": "sns.countplot('Pclass',hue='Survived',data=df)"
        }, 
        {
            "outputs": [], 
            "execution_count": null, 
            "metadata": {}, 
            "cell_type": "code", 
            "source": "#Checking for Null Columns"
        }, 
        {
            "outputs": [], 
            "execution_count": 24, 
            "metadata": {}, 
            "cell_type": "code", 
            "source": "pernull=df.isnull().sum()/df.isnull().count()"
        }, 
        {
            "outputs": [
                {
                    "output_type": "execute_result", 
                    "metadata": {}, 
                    "execution_count": 25, 
                    "data": {
                        "text/plain": "PassengerId    0.000000\nSurvived       0.000000\nPclass         0.000000\nName           0.000000\nSex            0.000000\nAge            0.198653\nSibSp          0.000000\nParch          0.000000\nTicket         0.000000\nFare           0.000000\nCabin          0.771044\nEmbarked       0.002245\ndtype: float64"
                    }
                }
            ], 
            "execution_count": 25, 
            "metadata": {}, 
            "cell_type": "code", 
            "source": "pernull"
        }, 
        {
            "outputs": [], 
            "execution_count": null, 
            "metadata": {}, 
            "cell_type": "code", 
            "source": "#Checking % of Men and Women Survived, we got to know Men survived more compare to Women, men=18%, Women =74% Survival rate"
        }, 
        {
            "outputs": [
                {
                    "output_type": "execute_result", 
                    "metadata": {}, 
                    "execution_count": 26, 
                    "data": {
                        "text/plain": "0.18890814558058924"
                    }
                }
            ], 
            "execution_count": 26, 
            "metadata": {}, 
            "cell_type": "code", 
            "source": "df[df['Sex']=='male'].Survived.sum()/df[df['Sex']=='male'].Survived.count()"
        }, 
        {
            "outputs": [
                {
                    "output_type": "execute_result", 
                    "metadata": {}, 
                    "execution_count": 27, 
                    "data": {
                        "text/plain": "0.7420382165605095"
                    }
                }
            ], 
            "execution_count": 27, 
            "metadata": {}, 
            "cell_type": "code", 
            "source": "df[df['Sex']=='female'].Survived.sum()/df[df['Sex']=='female'].Survived.count()"
        }, 
        {
            "outputs": [
                {
                    "name": "stderr", 
                    "output_type": "stream", 
                    "text": "/opt/ibm/conda/miniconda3/lib/python3.5/site-packages/seaborn/categorical.py:462: FutureWarning: remove_na is deprecated and is a private function. Do not use.\n  box_data = remove_na(group_data)\n"
                }, 
                {
                    "output_type": "execute_result", 
                    "metadata": {}, 
                    "execution_count": 28, 
                    "data": {
                        "text/plain": "<matplotlib.axes._subplots.AxesSubplot at 0x7f0ed47dfcf8>"
                    }
                }, 
                {
                    "output_type": "display_data", 
                    "metadata": {}, 
                    "data": {
                        "image/png": "[encoded data removed]", 
                        "text/plain": "<matplotlib.figure.Figure at 0x7f0ed4aaf2e8>"
                    }
                }
            ], 
            "execution_count": 28, 
            "metadata": {}, 
            "cell_type": "code", 
            "source": "sns.boxplot(x='Pclass',y='Age',data=df)"
        }, 
        {
            "outputs": [], 
            "execution_count": null, 
            "metadata": {}, 
            "cell_type": "code", 
            "source": "#Age Column is having Null Values so adding median of every Pclass age to null places in Age Column"
        }, 
        {
            "outputs": [], 
            "execution_count": 29, 
            "metadata": {}, 
            "cell_type": "code", 
            "source": "def fun(val):\n    age=val[0]\n    pclass=val[1]\n    if pd.isnull(val[0]):\n        if pclass==1:\n            return 37\n        if pclass ==2:\n            return 29\n        if pclass==3:\n            return 24\n    else:\n        return age       "
        }, 
        {
            "outputs": [], 
            "execution_count": 30, 
            "metadata": {}, 
            "cell_type": "code", 
            "source": "df['age']=df[['Age','Pclass']].apply(fun,axis=1)"
        }, 
        {
            "outputs": [
                {
                    "output_type": "execute_result", 
                    "metadata": {}, 
                    "execution_count": 31, 
                    "data": {
                        "text/plain": "0"
                    }
                }
            ], 
            "execution_count": 31, 
            "metadata": {}, 
            "cell_type": "code", 
            "source": "df['age'].isnull().sum()"
        }, 
        {
            "outputs": [], 
            "execution_count": 32, 
            "metadata": {}, 
            "cell_type": "code", 
            "source": "df['age']=df['age'].astype(int)"
        }, 
        {
            "outputs": [
                {
                    "output_type": "execute_result", 
                    "metadata": {}, 
                    "execution_count": 33, 
                    "data": {
                        "text/plain": "<matplotlib.axes._subplots.AxesSubplot at 0x7f0ed07b24e0>"
                    }
                }, 
                {
                    "output_type": "display_data", 
                    "metadata": {}, 
                    "data": {
                        "image/png": "[encoded data removed]", 
                        "text/plain": "<matplotlib.figure.Figure at 0x7f0ed07a7518>"
                    }
                }
            ], 
            "execution_count": 33, 
            "metadata": {}, 
            "cell_type": "code", 
            "source": "sns.distplot(df['Fare'],bins=50)"
        }, 
        {
            "outputs": [
                {
                    "output_type": "execute_result", 
                    "metadata": {}, 
                    "execution_count": 34, 
                    "data": {
                        "text/plain": "S    644\nC    168\nQ     77\nName: Embarked, dtype: int64"
                    }
                }
            ], 
            "execution_count": 34, 
            "metadata": {}, 
            "cell_type": "code", 
            "source": "df['Embarked'].value_counts()"
        }, 
        {
            "outputs": [], 
            "execution_count": null, 
            "metadata": {}, 
            "cell_type": "code", 
            "source": "#Inserting highest value in Embarked column('S') to null places in Embarked"
        }, 
        {
            "outputs": [], 
            "execution_count": 35, 
            "metadata": {}, 
            "cell_type": "code", 
            "source": "df['Embarked']=df['Embarked'].fillna('S')"
        }, 
        {
            "outputs": [
                {
                    "output_type": "execute_result", 
                    "metadata": {}, 
                    "execution_count": 36, 
                    "data": {
                        "text/plain": "0"
                    }
                }
            ], 
            "execution_count": 36, 
            "metadata": {}, 
            "cell_type": "code", 
            "source": "df['Embarked'].isnull().sum()"
        }, 
        {
            "outputs": [], 
            "execution_count": null, 
            "metadata": {}, 
            "cell_type": "code", 
            "source": "#Concatinating Sibsp and Parch Column and creating Relative Column"
        }, 
        {
            "outputs": [], 
            "execution_count": 37, 
            "metadata": {}, 
            "cell_type": "code", 
            "source": "df['relative']=df['SibSp']+df['Parch']"
        }, 
        {
            "outputs": [
                {
                    "output_type": "execute_result", 
                    "metadata": {}, 
                    "execution_count": 38, 
                    "data": {
                        "text/plain": "0       1\n1       1\n2       0\n3       1\n4       0\n5       0\n6       0\n7       4\n8       2\n9       1\n10      2\n11      0\n12      0\n13      6\n14      0\n15      0\n16      5\n17      0\n18      1\n19      0\n20      0\n21      0\n22      0\n23      0\n24      4\n25      6\n26      0\n27      5\n28      0\n29      0\n       ..\n861     1\n862     0\n863    10\n864     0\n865     0\n866     1\n867     0\n868     0\n869     2\n870     0\n871     2\n872     0\n873     0\n874     1\n875     0\n876     0\n877     0\n878     0\n879     1\n880     1\n881     0\n882     0\n883     0\n884     0\n885     5\n886     0\n887     0\n888     3\n889     0\n890     0\nName: relative, Length: 891, dtype: int64"
                    }
                }
            ], 
            "execution_count": 38, 
            "metadata": {}, 
            "cell_type": "code", 
            "source": "df['relative']"
        }, 
        {
            "outputs": [], 
            "execution_count": 39, 
            "metadata": {}, 
            "cell_type": "code", 
            "source": "df.loc[df['relative']>0,'non-relative']=0\ndf.loc[df['relative']==0, 'non-relative']=1"
        }, 
        {
            "outputs": [], 
            "execution_count": 40, 
            "metadata": {}, 
            "cell_type": "code", 
            "source": "df['non-relative']=df['non-relative'].astype(int)"
        }, 
        {
            "outputs": [], 
            "execution_count": 41, 
            "metadata": {}, 
            "cell_type": "code", 
            "source": "df['Fare']=df['Fare'].astype(int)"
        }, 
        {
            "outputs": [], 
            "execution_count": null, 
            "metadata": {}, 
            "cell_type": "code", 
            "source": "#Using Label Encoder to convert Categorial to Numerical Values"
        }, 
        {
            "outputs": [], 
            "execution_count": 42, 
            "metadata": {}, 
            "cell_type": "code", 
            "source": "Labelenc=LabelEncoder()"
        }, 
        {
            "outputs": [], 
            "execution_count": 43, 
            "metadata": {}, 
            "cell_type": "code", 
            "source": "df['Sex']=Labelenc.fit_transform(df['Sex'])"
        }, 
        {
            "outputs": [], 
            "execution_count": 44, 
            "metadata": {}, 
            "cell_type": "code", 
            "source": "df['Embarked']=Labelenc.fit_transform(df['Embarked'])\n"
        }, 
        {
            "outputs": [], 
            "execution_count": null, 
            "metadata": {}, 
            "cell_type": "code", 
            "source": "#Deleting Columns"
        }, 
        {
            "outputs": [], 
            "execution_count": 45, 
            "metadata": {}, 
            "cell_type": "code", 
            "source": "df.drop(['Age','Cabin','Name','Ticket','SibSp','Parch'],axis=1,inplace=True)"
        }, 
        {
            "outputs": [], 
            "execution_count": null, 
            "metadata": {}, 
            "cell_type": "code", 
            "source": "#Final dataframe"
        }, 
        {
            "outputs": [
                {
                    "name": "stdout", 
                    "output_type": "stream", 
                    "text": "<class 'pandas.core.frame.DataFrame'>\nRangeIndex: 891 entries, 0 to 890\nData columns (total 9 columns):\nPassengerId     891 non-null int64\nSurvived        891 non-null int64\nPclass          891 non-null int64\nSex             891 non-null int64\nFare            891 non-null int64\nEmbarked        891 non-null int64\nage             891 non-null int64\nrelative        891 non-null int64\nnon-relative    891 non-null int64\ndtypes: int64(9)\nmemory usage: 62.7 KB\n"
                }
            ], 
            "execution_count": 46, 
            "metadata": {}, 
            "cell_type": "code", 
            "source": "df.info()"
        }, 
        {
            "outputs": [], 
            "execution_count": 47, 
            "metadata": {}, 
            "cell_type": "code", 
            "source": "x=df.drop('Survived',axis=1)"
        }, 
        {
            "outputs": [], 
            "execution_count": 48, 
            "metadata": {}, 
            "cell_type": "code", 
            "source": "y=df['Survived']"
        }, 
        {
            "outputs": [], 
            "execution_count": 49, 
            "metadata": {}, 
            "cell_type": "code", 
            "source": "x_trn,x_tst,y_trn,y_tst=train_test_split(x,y,random_state=10,test_size=0.2)"
        }, 
        {
            "outputs": [], 
            "execution_count": 50, 
            "metadata": {}, 
            "cell_type": "code", 
            "source": "randomclf=RandomForestClassifier(n_estimators=25,criterion='gini',max_depth=7,random_state=100)"
        }, 
        {
            "outputs": [
                {
                    "output_type": "execute_result", 
                    "metadata": {}, 
                    "execution_count": 51, 
                    "data": {
                        "text/plain": "RandomForestClassifier(bootstrap=True, class_weight=None, criterion='gini',\n            max_depth=7, max_features='auto', max_leaf_nodes=None,\n            min_impurity_decrease=0.0, min_impurity_split=None,\n            min_samples_leaf=1, min_samples_split=2,\n            min_weight_fraction_leaf=0.0, n_estimators=25, n_jobs=1,\n            oob_score=False, random_state=100, verbose=0, warm_start=False)"
                    }
                }
            ], 
            "execution_count": 51, 
            "metadata": {}, 
            "cell_type": "code", 
            "source": "randomclf.fit(x_trn,y_trn)"
        }, 
        {
            "outputs": [], 
            "execution_count": 52, 
            "metadata": {}, 
            "cell_type": "code", 
            "source": "randompred=randomclf.predict(x_tst)"
        }, 
        {
            "outputs": [], 
            "execution_count": 53, 
            "metadata": {}, 
            "cell_type": "code", 
            "source": "decisiontreeclf=DecisionTreeClassifier(max_depth=7,criterion='entropy',random_state=100,max_features=3)"
        }, 
        {
            "outputs": [
                {
                    "output_type": "execute_result", 
                    "metadata": {}, 
                    "execution_count": 54, 
                    "data": {
                        "text/plain": "DecisionTreeClassifier(class_weight=None, criterion='entropy', max_depth=7,\n            max_features=3, max_leaf_nodes=None, min_impurity_decrease=0.0,\n            min_impurity_split=None, min_samples_leaf=1,\n            min_samples_split=2, min_weight_fraction_leaf=0.0,\n            presort=False, random_state=100, splitter='best')"
                    }
                }
            ], 
            "execution_count": 54, 
            "metadata": {}, 
            "cell_type": "code", 
            "source": "decisiontreeclf.fit(x_trn,y_trn)"
        }, 
        {
            "outputs": [], 
            "execution_count": 55, 
            "metadata": {}, 
            "cell_type": "code", 
            "source": "decisiontreepred=decisiontreeclf.predict(x_tst)"
        }, 
        {
            "outputs": [], 
            "execution_count": 56, 
            "metadata": {}, 
            "cell_type": "code", 
            "source": "gausianclf=GaussianNB()"
        }, 
        {
            "outputs": [
                {
                    "output_type": "execute_result", 
                    "metadata": {}, 
                    "execution_count": 57, 
                    "data": {
                        "text/plain": "GaussianNB(priors=None)"
                    }
                }
            ], 
            "execution_count": 57, 
            "metadata": {}, 
            "cell_type": "code", 
            "source": "gausianclf.fit(x_trn,y_trn)"
        }, 
        {
            "outputs": [], 
            "execution_count": 58, 
            "metadata": {}, 
            "cell_type": "code", 
            "source": "gausianpred=gausianclf.predict(x_tst)"
        }, 
        {
            "outputs": [], 
            "execution_count": 59, 
            "metadata": {}, 
            "cell_type": "code", 
            "source": "svmclf=SVC(kernel='linear',C=1,gamma=0.1).fit(x_trn,y_trn)"
        }, 
        {
            "outputs": [], 
            "execution_count": 60, 
            "metadata": {}, 
            "cell_type": "code", 
            "source": "svmpred=svmclf.predict(x_tst)"
        }, 
        {
            "outputs": [], 
            "execution_count": 61, 
            "metadata": {}, 
            "cell_type": "code", 
            "source": "logisticclf=LogisticRegression().fit(x_trn,y_trn)"
        }, 
        {
            "outputs": [], 
            "execution_count": 62, 
            "metadata": {}, 
            "cell_type": "code", 
            "source": "logisticpred=logisticclf.predict(x_tst)"
        }, 
        {
            "outputs": [
                {
                    "output_type": "execute_result", 
                    "metadata": {}, 
                    "execution_count": 63, 
                    "data": {
                        "text/plain": "array([[107,  13],\n       [ 10,  49]])"
                    }
                }
            ], 
            "execution_count": 63, 
            "metadata": {}, 
            "cell_type": "code", 
            "source": "confusion_matrix(randompred,y_tst)"
        }, 
        {
            "outputs": [
                {
                    "output_type": "execute_result", 
                    "metadata": {}, 
                    "execution_count": 64, 
                    "data": {
                        "text/plain": "'             precision    recall  f1-score   support\\n\\n          0       0.91      0.89      0.90       120\\n          1       0.79      0.83      0.81        59\\n\\navg / total       0.87      0.87      0.87       179\\n'"
                    }
                }
            ], 
            "execution_count": 64, 
            "metadata": {}, 
            "cell_type": "code", 
            "source": "classification_report(randompred,y_tst)"
        }, 
        {
            "outputs": [
                {
                    "output_type": "execute_result", 
                    "metadata": {}, 
                    "execution_count": 65, 
                    "data": {
                        "text/plain": "0.87150837988826813"
                    }
                }
            ], 
            "execution_count": 65, 
            "metadata": {}, 
            "cell_type": "code", 
            "source": "accuracy_score(randompred,y_tst)"
        }, 
        {
            "outputs": [
                {
                    "output_type": "execute_result", 
                    "metadata": {}, 
                    "execution_count": 66, 
                    "data": {
                        "text/plain": "array([[103,   9],\n       [ 14,  53]])"
                    }
                }
            ], 
            "execution_count": 66, 
            "metadata": {}, 
            "cell_type": "code", 
            "source": "confusion_matrix(decisiontreepred,y_tst)"
        }, 
        {
            "outputs": [
                {
                    "output_type": "execute_result", 
                    "metadata": {}, 
                    "execution_count": 67, 
                    "data": {
                        "text/plain": "'             precision    recall  f1-score   support\\n\\n          0       0.88      0.92      0.90       112\\n          1       0.85      0.79      0.82        67\\n\\navg / total       0.87      0.87      0.87       179\\n'"
                    }
                }
            ], 
            "execution_count": 67, 
            "metadata": {}, 
            "cell_type": "code", 
            "source": "classification_report(decisiontreepred,y_tst)"
        }, 
        {
            "outputs": [
                {
                    "output_type": "execute_result", 
                    "metadata": {}, 
                    "execution_count": 68, 
                    "data": {
                        "text/plain": "0.87150837988826813"
                    }
                }
            ], 
            "execution_count": 68, 
            "metadata": {}, 
            "cell_type": "code", 
            "source": "accuracy_score(decisiontreepred,y_tst)"
        }, 
        {
            "outputs": [
                {
                    "output_type": "execute_result", 
                    "metadata": {}, 
                    "execution_count": 69, 
                    "data": {
                        "text/plain": "'             precision    recall  f1-score   support\\n\\n          0       0.85      0.88      0.87       114\\n          1       0.77      0.74      0.76        65\\n\\navg / total       0.83      0.83      0.83       179\\n'"
                    }
                }
            ], 
            "execution_count": 69, 
            "metadata": {}, 
            "cell_type": "code", 
            "source": "classification_report(gausianpred,y_tst)"
        }, 
        {
            "outputs": [
                {
                    "output_type": "execute_result", 
                    "metadata": {}, 
                    "execution_count": 70, 
                    "data": {
                        "text/plain": "array([[100,  14],\n       [ 17,  48]])"
                    }
                }
            ], 
            "execution_count": 70, 
            "metadata": {}, 
            "cell_type": "code", 
            "source": "confusion_matrix(gausianpred,y_tst)"
        }, 
        {
            "outputs": [
                {
                    "output_type": "execute_result", 
                    "metadata": {}, 
                    "execution_count": 71, 
                    "data": {
                        "text/plain": "0.82681564245810057"
                    }
                }
            ], 
            "execution_count": 71, 
            "metadata": {}, 
            "cell_type": "code", 
            "source": "accuracy_score(gausianpred,y_tst)"
        }, 
        {
            "outputs": [
                {
                    "output_type": "execute_result", 
                    "metadata": {}, 
                    "execution_count": 72, 
                    "data": {
                        "text/plain": "'             precision    recall  f1-score   support\\n\\n          0       0.89      0.84      0.86       124\\n          1       0.68      0.76      0.72        55\\n\\navg / total       0.82      0.82      0.82       179\\n'"
                    }
                }
            ], 
            "execution_count": 72, 
            "metadata": {}, 
            "cell_type": "code", 
            "source": "classification_report(svmpred,y_tst)"
        }, 
        {
            "outputs": [
                {
                    "output_type": "execute_result", 
                    "metadata": {}, 
                    "execution_count": 73, 
                    "data": {
                        "text/plain": "array([[104,  20],\n       [ 13,  42]])"
                    }
                }
            ], 
            "execution_count": 73, 
            "metadata": {}, 
            "cell_type": "code", 
            "source": "confusion_matrix(svmpred,y_tst)"
        }, 
        {
            "outputs": [
                {
                    "output_type": "execute_result", 
                    "metadata": {}, 
                    "execution_count": 74, 
                    "data": {
                        "text/plain": "0.81564245810055869"
                    }
                }
            ], 
            "execution_count": 74, 
            "metadata": {}, 
            "cell_type": "code", 
            "source": "accuracy_score(svmpred,y_tst)"
        }, 
        {
            "outputs": [
                {
                    "output_type": "execute_result", 
                    "metadata": {}, 
                    "execution_count": 75, 
                    "data": {
                        "text/plain": "array([[103,  21],\n       [ 14,  41]])"
                    }
                }
            ], 
            "execution_count": 75, 
            "metadata": {}, 
            "cell_type": "code", 
            "source": "confusion_matrix(logisticpred,y_tst)"
        }, 
        {
            "outputs": [
                {
                    "output_type": "execute_result", 
                    "metadata": {}, 
                    "execution_count": 76, 
                    "data": {
                        "text/plain": "'             precision    recall  f1-score   support\\n\\n          0       0.88      0.83      0.85       124\\n          1       0.66      0.75      0.70        55\\n\\navg / total       0.81      0.80      0.81       179\\n'"
                    }
                }
            ], 
            "execution_count": 76, 
            "metadata": {}, 
            "cell_type": "code", 
            "source": "classification_report(logisticpred,y_tst)"
        }, 
        {
            "outputs": [
                {
                    "output_type": "execute_result", 
                    "metadata": {}, 
                    "execution_count": 77, 
                    "data": {
                        "text/plain": "0.8044692737430168"
                    }
                }
            ], 
            "execution_count": 77, 
            "metadata": {}, 
            "cell_type": "code", 
            "source": "accuracy_score(logisticpred,y_tst)"
        }, 
        {
            "outputs": [
                {
                    "output_type": "execute_result", 
                    "metadata": {}, 
                    "execution_count": 83, 
                    "data": {
                        "text/plain": "{'instance_id': '5fd63b85-d45d-4bee-bc58-9a16d87eee41',\n 'password': 'cea9c1dc-2ff5-4a6e-8e07-746498e3c630',\n 'url': 'https://ibm-watson-ml.mybluemix.net',\n 'username': 'e2fadbfc-2a51-48f0-8550-b9c434c26cf7'}"
                    }
                }
            ], 
            "execution_count": 83, 
            "metadata": {}, 
            "cell_type": "code", 
            "source": "{\n    \"url\": \"https://ibm-watson-ml.mybluemix.net\",\n    \"username\": \"e2fadbfc-2a51-48f0-8550-b9c434c26cf7\",\n    \"password\": \"cea9c1dc-2ff5-4a6e-8e07-746498e3c630\",\n    \"instance_id\": \"5fd63b85-d45d-4bee-bc58-9a16d87eee41\"\n}\n\n"
        }, 
        {
            "outputs": [
                {
                    "output_type": "execute_result", 
                    "metadata": {}, 
                    "execution_count": 84, 
                    "data": {
                        "text/plain": "[Row(PassengerId=1, Survived=0, Pclass=3, Name='Braund, Mr. Owen Harris', Sex='male', Age=22.0, SibSp=1, Parch=0, Ticket='A/5 21171', Fare=7.25, Cabin=None, Embarked='S'),\n Row(PassengerId=2, Survived=1, Pclass=1, Name='Cumings, Mrs. John Bradley (Florence Briggs Thayer)', Sex='female', Age=38.0, SibSp=1, Parch=0, Ticket='PC 17599', Fare=71.2833, Cabin='C85', Embarked='C'),\n Row(PassengerId=3, Survived=1, Pclass=3, Name='Heikkinen, Miss. Laina', Sex='female', Age=26.0, SibSp=0, Parch=0, Ticket='STON/O2. 3101282', Fare=7.925, Cabin=None, Embarked='S'),\n Row(PassengerId=4, Survived=1, Pclass=1, Name='Futrelle, Mrs. Jacques Heath (Lily May Peel)', Sex='female', Age=35.0, SibSp=1, Parch=0, Ticket='113803', Fare=53.1, Cabin='C123', Embarked='S'),\n Row(PassengerId=5, Survived=0, Pclass=3, Name='Allen, Mr. William Henry', Sex='male', Age=35.0, SibSp=0, Parch=0, Ticket='373450', Fare=8.05, Cabin=None, Embarked='S')]"
                    }
                }
            ], 
            "execution_count": 84, 
            "metadata": {}, 
            "cell_type": "code", 
            "source": "# The code was removed by Watson Studio for sharing."
        }, 
        {
            "outputs": [], 
            "execution_count": 85, 
            "metadata": {}, 
            "cell_type": "code", 
            "source": "# The code was removed by Watson Studio for sharing."
        }, 
        {
            "outputs": [
                {
                    "output_type": "execute_result", 
                    "metadata": {}, 
                    "execution_count": 91, 
                    "data": {
                        "text/plain": "{'credentials': {'cluster_master_url': 'https://spark.bluemix.net',\n  'instance_id': '00fd89e6-8cf2-4712-a068-ade10277b649',\n  'plan': 'ibm.SparkService.PayGoPersonal',\n  'tenant_id': 's068-ade10277b64956-05b1d10fv12b',\n  'tenant_id_full': '00fd89e6-8cf2-4712-a068-ade10277b649_41f37bf2-1b95-4c65-a156-05b1d10fb12b',\n  'tenant_secret': 'c74c37cf-482a-4da4-836e-f32ca26ccbb9'},\n 'version': '2.0'}"
                    }
                }
            ], 
            "execution_count": 91, 
            "metadata": {}, 
            "cell_type": "code", 
            "source": "{\n   \"credentials\":{\n      \"tenant_id\":\"s068-ade10277b64956-05b1d10fv12b\",\n      \"tenant_id_full\":\"00fd89e6-8cf2-4712-a068-ade10277b649_41f37bf2-1b95-4c65-a156-05b1d10fb12b\",\n      \"cluster_master_url\":\"https://spark.bluemix.net\",\n      \"instance_id\":\"00fd89e6-8cf2-4712-a068-ade10277b649\",\n      \"tenant_secret\":\"c74c37cf-482a-4da4-836e-f32ca26ccbb9\",\n      \"plan\":\"ibm.SparkService.PayGoPersonal\"\n   },\n   \"version\":\"2.0\"\n}"
        }, 
        {
            "outputs": [], 
            "execution_count": null, 
            "metadata": {}, 
            "cell_type": "code", 
            "source": ""
        }, 
        {
            "outputs": [], 
            "execution_count": null, 
            "metadata": {}, 
            "cell_type": "code", 
            "source": ""
        }
    ], 
    "nbformat": 4
}